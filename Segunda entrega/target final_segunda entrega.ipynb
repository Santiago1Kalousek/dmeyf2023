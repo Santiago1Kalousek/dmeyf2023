{
 "cells": [
  {
   "cell_type": "markdown",
   "metadata": {},
   "source": [
    "# Crear Target\n",
    "\n",
    "## Ejercicio 1:\n",
    "Cree el archivo `competencia_01.csv`, usando el `competencia_01_crudo.csv` con una variable adicional llamada `clase_ternaria`, que contenga las categorías **CONTINUA**, **BAJA+1** y **BAJA+2** \n",
    "\n",
    "### Ayudita \n",
    "\n",
    "Para practicar el muy útil y necesario lenguaje **SQL**, vamos a utilizar una base de datos **OLAP** llamada **DuckDB**. \n",
    "\n",
    "La documentación la puede encontrar [aquí](https://duckdb.org/docs/archive/0.8.1/sql/introduction)\n",
    "Procedemos a instalarla, esto se debe ejecutar una sola vez"
   ]
  },
  {
   "cell_type": "markdown",
   "metadata": {},
   "source": [
    "Configuramos el entorno de ejecución. Si ya tiene todo instalado, solo necesita ejecutar esta celda para empezar a usar **duckdb** "
   ]
  },
  {
   "cell_type": "code",
   "execution_count": 1,
   "metadata": {},
   "outputs": [
    {
     "name": "stdout",
     "output_type": "stream",
     "text": [
      "Requirement already satisfied: jupysql in c:\\users\\kalou\\appdata\\local\\programs\\python\\python311\\lib\\site-packages (0.10.0)\n",
      "Requirement already satisfied: prettytable in c:\\users\\kalou\\appdata\\local\\programs\\python\\python311\\lib\\site-packages (from jupysql) (3.8.0)\n",
      "Requirement already satisfied: ipython in c:\\users\\kalou\\appdata\\local\\programs\\python\\python311\\lib\\site-packages (from jupysql) (8.14.0)\n",
      "Requirement already satisfied: sqlalchemy in c:\\users\\kalou\\appdata\\local\\programs\\python\\python311\\lib\\site-packages (from jupysql) (2.0.20)\n",
      "Requirement already satisfied: sqlparse in c:\\users\\kalou\\appdata\\local\\programs\\python\\python311\\lib\\site-packages (from jupysql) (0.4.4)\n",
      "Requirement already satisfied: ipython-genutils>=0.1.0 in c:\\users\\kalou\\appdata\\local\\programs\\python\\python311\\lib\\site-packages (from jupysql) (0.2.0)\n",
      "Requirement already satisfied: sqlglot in c:\\users\\kalou\\appdata\\local\\programs\\python\\python311\\lib\\site-packages (from jupysql) (17.14.2)\n",
      "Requirement already satisfied: jinja2 in c:\\users\\kalou\\appdata\\local\\programs\\python\\python311\\lib\\site-packages (from jupysql) (3.1.2)\n",
      "Requirement already satisfied: ploomber-core>=0.2.7 in c:\\users\\kalou\\appdata\\local\\programs\\python\\python311\\lib\\site-packages (from jupysql) (0.2.14)\n",
      "Requirement already satisfied: click in c:\\users\\kalou\\appdata\\local\\programs\\python\\python311\\lib\\site-packages (from ploomber-core>=0.2.7->jupysql) (8.1.7)\n",
      "Requirement already satisfied: pyyaml in c:\\users\\kalou\\appdata\\local\\programs\\python\\python311\\lib\\site-packages (from ploomber-core>=0.2.7->jupysql) (6.0.1)\n",
      "Requirement already satisfied: posthog in c:\\users\\kalou\\appdata\\local\\programs\\python\\python311\\lib\\site-packages (from ploomber-core>=0.2.7->jupysql) (3.0.2)\n",
      "Requirement already satisfied: backcall in c:\\users\\kalou\\appdata\\local\\programs\\python\\python311\\lib\\site-packages (from ipython->jupysql) (0.2.0)\n",
      "Requirement already satisfied: decorator in c:\\users\\kalou\\appdata\\local\\programs\\python\\python311\\lib\\site-packages (from ipython->jupysql) (5.1.1)\n",
      "Requirement already satisfied: jedi>=0.16 in c:\\users\\kalou\\appdata\\local\\programs\\python\\python311\\lib\\site-packages (from ipython->jupysql) (0.19.0)\n",
      "Requirement already satisfied: matplotlib-inline in c:\\users\\kalou\\appdata\\local\\programs\\python\\python311\\lib\\site-packages (from ipython->jupysql) (0.1.6)\n",
      "Requirement already satisfied: pickleshare in c:\\users\\kalou\\appdata\\local\\programs\\python\\python311\\lib\\site-packages (from ipython->jupysql) (0.7.5)\n",
      "Requirement already satisfied: prompt-toolkit!=3.0.37,<3.1.0,>=3.0.30 in c:\\users\\kalou\\appdata\\local\\programs\\python\\python311\\lib\\site-packages (from ipython->jupysql) (3.0.39)\n",
      "Requirement already satisfied: pygments>=2.4.0 in c:\\users\\kalou\\appdata\\local\\programs\\python\\python311\\lib\\site-packages (from ipython->jupysql) (2.16.1)\n",
      "Requirement already satisfied: stack-data in c:\\users\\kalou\\appdata\\local\\programs\\python\\python311\\lib\\site-packages (from ipython->jupysql) (0.6.2)\n",
      "Requirement already satisfied: traitlets>=5 in c:\\users\\kalou\\appdata\\local\\programs\\python\\python311\\lib\\site-packages (from ipython->jupysql) (5.9.0)\n",
      "Requirement already satisfied: colorama in c:\\users\\kalou\\appdata\\local\\programs\\python\\python311\\lib\\site-packages (from ipython->jupysql) (0.4.6)\n",
      "Requirement already satisfied: MarkupSafe>=2.0 in c:\\users\\kalou\\appdata\\local\\programs\\python\\python311\\lib\\site-packages (from jinja2->jupysql) (2.1.3)\n",
      "Requirement already satisfied: wcwidth in c:\\users\\kalou\\appdata\\local\\programs\\python\\python311\\lib\\site-packages (from prettytable->jupysql) (0.2.6)\n",
      "Requirement already satisfied: typing-extensions>=4.2.0 in c:\\users\\kalou\\appdata\\local\\programs\\python\\python311\\lib\\site-packages (from sqlalchemy->jupysql) (4.7.1)\n",
      "Requirement already satisfied: greenlet!=0.4.17 in c:\\users\\kalou\\appdata\\local\\programs\\python\\python311\\lib\\site-packages (from sqlalchemy->jupysql) (2.0.2)\n",
      "Requirement already satisfied: parso<0.9.0,>=0.8.3 in c:\\users\\kalou\\appdata\\local\\programs\\python\\python311\\lib\\site-packages (from jedi>=0.16->ipython->jupysql) (0.8.3)\n",
      "Requirement already satisfied: requests<3.0,>=2.7 in c:\\users\\kalou\\appdata\\local\\programs\\python\\python311\\lib\\site-packages (from posthog->ploomber-core>=0.2.7->jupysql) (2.31.0)\n",
      "Requirement already satisfied: six>=1.5 in c:\\users\\kalou\\appdata\\local\\programs\\python\\python311\\lib\\site-packages (from posthog->ploomber-core>=0.2.7->jupysql) (1.16.0)\n",
      "Requirement already satisfied: monotonic>=1.5 in c:\\users\\kalou\\appdata\\local\\programs\\python\\python311\\lib\\site-packages (from posthog->ploomber-core>=0.2.7->jupysql) (1.6)\n",
      "Requirement already satisfied: backoff>=1.10.0 in c:\\users\\kalou\\appdata\\local\\programs\\python\\python311\\lib\\site-packages (from posthog->ploomber-core>=0.2.7->jupysql) (2.2.1)\n",
      "Requirement already satisfied: python-dateutil>2.1 in c:\\users\\kalou\\appdata\\local\\programs\\python\\python311\\lib\\site-packages (from posthog->ploomber-core>=0.2.7->jupysql) (2.8.2)\n",
      "Requirement already satisfied: executing>=1.2.0 in c:\\users\\kalou\\appdata\\local\\programs\\python\\python311\\lib\\site-packages (from stack-data->ipython->jupysql) (1.2.0)\n",
      "Requirement already satisfied: asttokens>=2.1.0 in c:\\users\\kalou\\appdata\\local\\programs\\python\\python311\\lib\\site-packages (from stack-data->ipython->jupysql) (2.2.1)\n",
      "Requirement already satisfied: pure-eval in c:\\users\\kalou\\appdata\\local\\programs\\python\\python311\\lib\\site-packages (from stack-data->ipython->jupysql) (0.2.2)\n",
      "Requirement already satisfied: charset-normalizer<4,>=2 in c:\\users\\kalou\\appdata\\local\\programs\\python\\python311\\lib\\site-packages (from requests<3.0,>=2.7->posthog->ploomber-core>=0.2.7->jupysql) (3.2.0)\n",
      "Requirement already satisfied: idna<4,>=2.5 in c:\\users\\kalou\\appdata\\local\\programs\\python\\python311\\lib\\site-packages (from requests<3.0,>=2.7->posthog->ploomber-core>=0.2.7->jupysql) (3.4)\n",
      "Requirement already satisfied: urllib3<3,>=1.21.1 in c:\\users\\kalou\\appdata\\local\\programs\\python\\python311\\lib\\site-packages (from requests<3.0,>=2.7->posthog->ploomber-core>=0.2.7->jupysql) (2.0.4)\n",
      "Requirement already satisfied: certifi>=2017.4.17 in c:\\users\\kalou\\appdata\\local\\programs\\python\\python311\\lib\\site-packages (from requests<3.0,>=2.7->posthog->ploomber-core>=0.2.7->jupysql) (2023.7.22)\n"
     ]
    },
    {
     "name": "stderr",
     "output_type": "stream",
     "text": [
      "\n",
      "[notice] A new release of pip is available: 23.1.2 -> 23.2.1\n",
      "[notice] To update, run: python.exe -m pip install --upgrade pip\n",
      "\n",
      "[notice] A new release of pip is available: 23.1.2 -> 23.2.1\n",
      "[notice] To update, run: python.exe -m pip install --upgrade pip\n"
     ]
    },
    {
     "name": "stdout",
     "output_type": "stream",
     "text": [
      "Requirement already satisfied: duckdb-engine in c:\\users\\kalou\\appdata\\local\\programs\\python\\python311\\lib\\site-packages (0.9.2)\n",
      "Requirement already satisfied: duckdb>=0.4.0 in c:\\users\\kalou\\appdata\\local\\programs\\python\\python311\\lib\\site-packages (from duckdb-engine) (0.8.1)\n",
      "Requirement already satisfied: sqlalchemy>=1.3.22 in c:\\users\\kalou\\appdata\\local\\programs\\python\\python311\\lib\\site-packages (from duckdb-engine) (2.0.20)\n",
      "Requirement already satisfied: typing-extensions>=4.2.0 in c:\\users\\kalou\\appdata\\local\\programs\\python\\python311\\lib\\site-packages (from sqlalchemy>=1.3.22->duckdb-engine) (4.7.1)\n",
      "Requirement already satisfied: greenlet!=0.4.17 in c:\\users\\kalou\\appdata\\local\\programs\\python\\python311\\lib\\site-packages (from sqlalchemy>=1.3.22->duckdb-engine) (2.0.2)\n"
     ]
    }
   ],
   "source": [
    "!pip install jupysql\n",
    "!pip install duckdb-engine"
   ]
  },
  {
   "cell_type": "code",
   "execution_count": 2,
   "metadata": {},
   "outputs": [
    {
     "name": "stdout",
     "output_type": "stream",
     "text": [
      "Requirement already satisfied: duckdb in c:\\users\\kalou\\appdata\\local\\programs\\python\\python311\\lib\\site-packages (0.8.1)\n",
      "Note: you may need to restart the kernel to use updated packages.\n"
     ]
    },
    {
     "name": "stderr",
     "output_type": "stream",
     "text": [
      "\n",
      "[notice] A new release of pip is available: 23.1.2 -> 23.2.1\n",
      "[notice] To update, run: python.exe -m pip install --upgrade pip\n"
     ]
    }
   ],
   "source": [
    "pip install duckdb"
   ]
  },
  {
   "cell_type": "code",
   "execution_count": 3,
   "metadata": {},
   "outputs": [
    {
     "name": "stdout",
     "output_type": "stream",
     "text": [
      "Requirement already satisfied: pandas in c:\\users\\kalou\\appdata\\local\\programs\\python\\python311\\lib\\site-packages (2.0.3)\n",
      "Requirement already satisfied: python-dateutil>=2.8.2 in c:\\users\\kalou\\appdata\\local\\programs\\python\\python311\\lib\\site-packages (from pandas) (2.8.2)\n",
      "Requirement already satisfied: pytz>=2020.1 in c:\\users\\kalou\\appdata\\local\\programs\\python\\python311\\lib\\site-packages (from pandas) (2023.3)\n",
      "Requirement already satisfied: tzdata>=2022.1 in c:\\users\\kalou\\appdata\\local\\programs\\python\\python311\\lib\\site-packages (from pandas) (2023.3)\n",
      "Requirement already satisfied: numpy>=1.21.0 in c:\\users\\kalou\\appdata\\local\\programs\\python\\python311\\lib\\site-packages (from pandas) (1.25.2)\n",
      "Requirement already satisfied: six>=1.5 in c:\\users\\kalou\\appdata\\local\\programs\\python\\python311\\lib\\site-packages (from python-dateutil>=2.8.2->pandas) (1.16.0)\n"
     ]
    },
    {
     "name": "stderr",
     "output_type": "stream",
     "text": [
      "\n",
      "[notice] A new release of pip is available: 23.1.2 -> 23.2.1\n",
      "[notice] To update, run: python.exe -m pip install --upgrade pip\n"
     ]
    }
   ],
   "source": [
    "!pip install pandas"
   ]
  },
  {
   "cell_type": "code",
   "execution_count": 4,
   "metadata": {},
   "outputs": [],
   "source": [
    "import duckdb\n",
    "import pandas as pd\n",
    "\n",
    "%load_ext sql\n",
    "%config SqlMagic.autopandas = True\n",
    "%config SqlMagic.feedback = False\n",
    "%config SqlMagic.displaycon = False\n",
    "\n",
    "%sql duckdb:///:default:"
   ]
  },
  {
   "cell_type": "markdown",
   "metadata": {},
   "source": [
    "Y ya podemos usar **SQL** dentro de una notebook!"
   ]
  },
  {
   "cell_type": "code",
   "execution_count": 5,
   "metadata": {},
   "outputs": [
    {
     "data": {
      "text/html": [
       "<div>\n",
       "<style scoped>\n",
       "    .dataframe tbody tr th:only-of-type {\n",
       "        vertical-align: middle;\n",
       "    }\n",
       "\n",
       "    .dataframe tbody tr th {\n",
       "        vertical-align: top;\n",
       "    }\n",
       "\n",
       "    .dataframe thead th {\n",
       "        text-align: right;\n",
       "    }\n",
       "</style>\n",
       "<table border=\"1\" class=\"dataframe\">\n",
       "  <thead>\n",
       "    <tr style=\"text-align: right;\">\n",
       "      <th></th>\n",
       "      <th>'hola mundo'</th>\n",
       "    </tr>\n",
       "  </thead>\n",
       "  <tbody>\n",
       "    <tr>\n",
       "      <th>0</th>\n",
       "      <td>hola mundo</td>\n",
       "    </tr>\n",
       "  </tbody>\n",
       "</table>\n",
       "</div>"
      ],
      "text/plain": [
       "  'hola mundo'\n",
       "0   hola mundo"
      ]
     },
     "execution_count": 5,
     "metadata": {},
     "output_type": "execute_result"
    }
   ],
   "source": [
    "%%sql\n",
    "select 'hola mundo' "
   ]
  },
  {
   "cell_type": "markdown",
   "metadata": {},
   "source": [
    "Para cargar el archivo `.csv` a una tabla:"
   ]
  },
  {
   "cell_type": "code",
   "execution_count": 6,
   "metadata": {},
   "outputs": [
    {
     "data": {
      "application/vnd.jupyter.widget-view+json": {
       "model_id": "ee5934493d964cbcb9a8022af0234e67",
       "version_major": 2,
       "version_minor": 0
      },
      "text/plain": [
       "FloatProgress(value=0.0, layout=Layout(width='auto'), style=ProgressStyle(bar_color='black'))"
      ]
     },
     "metadata": {},
     "output_type": "display_data"
    },
    {
     "data": {
      "text/html": [
       "<div>\n",
       "<style scoped>\n",
       "    .dataframe tbody tr th:only-of-type {\n",
       "        vertical-align: middle;\n",
       "    }\n",
       "\n",
       "    .dataframe tbody tr th {\n",
       "        vertical-align: top;\n",
       "    }\n",
       "\n",
       "    .dataframe thead th {\n",
       "        text-align: right;\n",
       "    }\n",
       "</style>\n",
       "<table border=\"1\" class=\"dataframe\">\n",
       "  <thead>\n",
       "    <tr style=\"text-align: right;\">\n",
       "      <th></th>\n",
       "      <th>Success</th>\n",
       "    </tr>\n",
       "  </thead>\n",
       "  <tbody>\n",
       "  </tbody>\n",
       "</table>\n",
       "</div>"
      ],
      "text/plain": [
       "Empty DataFrame\n",
       "Columns: [Success]\n",
       "Index: []"
      ]
     },
     "execution_count": 6,
     "metadata": {},
     "output_type": "execute_result"
    }
   ],
   "source": [
    "%%sql\n",
    "create or replace table competencia_02 as \n",
    "select \n",
    "    *\n",
    "from read_csv_auto('C:\\Users\\Kalou\\OneDrive\\Escritorio\\DMEyF\\TareasHogar\\Primera entrega\\competencia_02_crudo.csv')\n"
   ]
  },
  {
   "cell_type": "markdown",
   "metadata": {},
   "source": [
    "Hagamos unas queries básicas para comprobar que todo esta funcionando bien."
   ]
  },
  {
   "cell_type": "code",
   "execution_count": 7,
   "metadata": {},
   "outputs": [
    {
     "data": {
      "text/html": [
       "<div>\n",
       "<style scoped>\n",
       "    .dataframe tbody tr th:only-of-type {\n",
       "        vertical-align: middle;\n",
       "    }\n",
       "\n",
       "    .dataframe tbody tr th {\n",
       "        vertical-align: top;\n",
       "    }\n",
       "\n",
       "    .dataframe thead th {\n",
       "        text-align: right;\n",
       "    }\n",
       "</style>\n",
       "<table border=\"1\" class=\"dataframe\">\n",
       "  <thead>\n",
       "    <tr style=\"text-align: right;\">\n",
       "      <th></th>\n",
       "      <th>numero_de_cliente</th>\n",
       "      <th>foto_mes</th>\n",
       "      <th>active_quarter</th>\n",
       "      <th>cliente_vip</th>\n",
       "      <th>internet</th>\n",
       "      <th>cliente_edad</th>\n",
       "      <th>cliente_antiguedad</th>\n",
       "      <th>mrentabilidad</th>\n",
       "      <th>mrentabilidad_annual</th>\n",
       "      <th>mcomisiones</th>\n",
       "      <th>...</th>\n",
       "      <th>Visa_madelantodolares</th>\n",
       "      <th>Visa_fultimo_cierre</th>\n",
       "      <th>Visa_mpagado</th>\n",
       "      <th>Visa_mpagospesos</th>\n",
       "      <th>Visa_mpagosdolares</th>\n",
       "      <th>Visa_fechaalta</th>\n",
       "      <th>Visa_mconsumototal</th>\n",
       "      <th>Visa_cconsumos</th>\n",
       "      <th>Visa_cadelantosefectivo</th>\n",
       "      <th>Visa_mpagominimo</th>\n",
       "    </tr>\n",
       "  </thead>\n",
       "  <tbody>\n",
       "    <tr>\n",
       "      <th>0</th>\n",
       "      <td>29183981</td>\n",
       "      <td>201901</td>\n",
       "      <td>1</td>\n",
       "      <td>0</td>\n",
       "      <td>1</td>\n",
       "      <td>48</td>\n",
       "      <td>171</td>\n",
       "      <td>8304.31</td>\n",
       "      <td>42993.54</td>\n",
       "      <td>2501.04</td>\n",
       "      <td>...</td>\n",
       "      <td>0.0</td>\n",
       "      <td>8</td>\n",
       "      <td>0.00</td>\n",
       "      <td>-35773.32</td>\n",
       "      <td>2.33</td>\n",
       "      <td>5148</td>\n",
       "      <td>36602.13</td>\n",
       "      <td>54</td>\n",
       "      <td>0</td>\n",
       "      <td>5008.71</td>\n",
       "    </tr>\n",
       "    <tr>\n",
       "      <th>1</th>\n",
       "      <td>29184630</td>\n",
       "      <td>201901</td>\n",
       "      <td>1</td>\n",
       "      <td>0</td>\n",
       "      <td>1</td>\n",
       "      <td>57</td>\n",
       "      <td>296</td>\n",
       "      <td>18318.76</td>\n",
       "      <td>42597.26</td>\n",
       "      <td>14986.76</td>\n",
       "      <td>...</td>\n",
       "      <td>0.0</td>\n",
       "      <td>1</td>\n",
       "      <td>0.00</td>\n",
       "      <td>-67414.82</td>\n",
       "      <td>1149.57</td>\n",
       "      <td>3299</td>\n",
       "      <td>28503.06</td>\n",
       "      <td>10</td>\n",
       "      <td>0</td>\n",
       "      <td>1395.87</td>\n",
       "    </tr>\n",
       "    <tr>\n",
       "      <th>2</th>\n",
       "      <td>29185587</td>\n",
       "      <td>201901</td>\n",
       "      <td>1</td>\n",
       "      <td>0</td>\n",
       "      <td>1</td>\n",
       "      <td>77</td>\n",
       "      <td>296</td>\n",
       "      <td>20862.84</td>\n",
       "      <td>85481.31</td>\n",
       "      <td>4228.40</td>\n",
       "      <td>...</td>\n",
       "      <td>0.0</td>\n",
       "      <td>1</td>\n",
       "      <td>0.00</td>\n",
       "      <td>0.00</td>\n",
       "      <td>0.00</td>\n",
       "      <td>6790</td>\n",
       "      <td>5170.25</td>\n",
       "      <td>2</td>\n",
       "      <td>0</td>\n",
       "      <td>0.00</td>\n",
       "    </tr>\n",
       "    <tr>\n",
       "      <th>3</th>\n",
       "      <td>29185646</td>\n",
       "      <td>201901</td>\n",
       "      <td>1</td>\n",
       "      <td>0</td>\n",
       "      <td>1</td>\n",
       "      <td>58</td>\n",
       "      <td>231</td>\n",
       "      <td>25218.94</td>\n",
       "      <td>165317.78</td>\n",
       "      <td>4474.25</td>\n",
       "      <td>...</td>\n",
       "      <td>0.0</td>\n",
       "      <td>22</td>\n",
       "      <td>69653.59</td>\n",
       "      <td>-59422.00</td>\n",
       "      <td>0.00</td>\n",
       "      <td>7037</td>\n",
       "      <td>67991.90</td>\n",
       "      <td>31</td>\n",
       "      <td>0</td>\n",
       "      <td>2897.31</td>\n",
       "    </tr>\n",
       "    <tr>\n",
       "      <th>4</th>\n",
       "      <td>29187499</td>\n",
       "      <td>201901</td>\n",
       "      <td>1</td>\n",
       "      <td>0</td>\n",
       "      <td>1</td>\n",
       "      <td>69</td>\n",
       "      <td>349</td>\n",
       "      <td>5307.54</td>\n",
       "      <td>32374.08</td>\n",
       "      <td>4706.22</td>\n",
       "      <td>...</td>\n",
       "      <td>0.0</td>\n",
       "      <td>8</td>\n",
       "      <td>0.00</td>\n",
       "      <td>-4802.21</td>\n",
       "      <td>0.00</td>\n",
       "      <td>7596</td>\n",
       "      <td>4851.93</td>\n",
       "      <td>3</td>\n",
       "      <td>0</td>\n",
       "      <td>492.66</td>\n",
       "    </tr>\n",
       "  </tbody>\n",
       "</table>\n",
       "<p>5 rows × 154 columns</p>\n",
       "</div>"
      ],
      "text/plain": [
       "   numero_de_cliente  foto_mes  active_quarter  cliente_vip  internet  \\\n",
       "0           29183981    201901               1            0         1   \n",
       "1           29184630    201901               1            0         1   \n",
       "2           29185587    201901               1            0         1   \n",
       "3           29185646    201901               1            0         1   \n",
       "4           29187499    201901               1            0         1   \n",
       "\n",
       "   cliente_edad  cliente_antiguedad  mrentabilidad  mrentabilidad_annual  \\\n",
       "0            48                 171        8304.31              42993.54   \n",
       "1            57                 296       18318.76              42597.26   \n",
       "2            77                 296       20862.84              85481.31   \n",
       "3            58                 231       25218.94             165317.78   \n",
       "4            69                 349        5307.54              32374.08   \n",
       "\n",
       "   mcomisiones  ...  Visa_madelantodolares  Visa_fultimo_cierre  Visa_mpagado  \\\n",
       "0      2501.04  ...                    0.0                    8          0.00   \n",
       "1     14986.76  ...                    0.0                    1          0.00   \n",
       "2      4228.40  ...                    0.0                    1          0.00   \n",
       "3      4474.25  ...                    0.0                   22      69653.59   \n",
       "4      4706.22  ...                    0.0                    8          0.00   \n",
       "\n",
       "   Visa_mpagospesos  Visa_mpagosdolares  Visa_fechaalta  Visa_mconsumototal  \\\n",
       "0         -35773.32                2.33            5148            36602.13   \n",
       "1         -67414.82             1149.57            3299            28503.06   \n",
       "2              0.00                0.00            6790             5170.25   \n",
       "3         -59422.00                0.00            7037            67991.90   \n",
       "4          -4802.21                0.00            7596             4851.93   \n",
       "\n",
       "   Visa_cconsumos  Visa_cadelantosefectivo  Visa_mpagominimo  \n",
       "0              54                        0           5008.71  \n",
       "1              10                        0           1395.87  \n",
       "2               2                        0              0.00  \n",
       "3              31                        0           2897.31  \n",
       "4               3                        0            492.66  \n",
       "\n",
       "[5 rows x 154 columns]"
      ]
     },
     "execution_count": 7,
     "metadata": {},
     "output_type": "execute_result"
    }
   ],
   "source": [
    "%sql select * from competencia_02 limit 5"
   ]
  },
  {
   "cell_type": "code",
   "execution_count": 8,
   "metadata": {},
   "outputs": [
    {
     "data": {
      "text/html": [
       "<div>\n",
       "<style scoped>\n",
       "    .dataframe tbody tr th:only-of-type {\n",
       "        vertical-align: middle;\n",
       "    }\n",
       "\n",
       "    .dataframe tbody tr th {\n",
       "        vertical-align: top;\n",
       "    }\n",
       "\n",
       "    .dataframe thead th {\n",
       "        text-align: right;\n",
       "    }\n",
       "</style>\n",
       "<table border=\"1\" class=\"dataframe\">\n",
       "  <thead>\n",
       "    <tr style=\"text-align: right;\">\n",
       "      <th></th>\n",
       "      <th>foto_mes</th>\n",
       "      <th>cantidad</th>\n",
       "    </tr>\n",
       "  </thead>\n",
       "  <tbody>\n",
       "    <tr>\n",
       "      <th>0</th>\n",
       "      <td>201901</td>\n",
       "      <td>124864</td>\n",
       "    </tr>\n",
       "    <tr>\n",
       "      <th>1</th>\n",
       "      <td>201902</td>\n",
       "      <td>125898</td>\n",
       "    </tr>\n",
       "    <tr>\n",
       "      <th>2</th>\n",
       "      <td>201903</td>\n",
       "      <td>126536</td>\n",
       "    </tr>\n",
       "    <tr>\n",
       "      <th>3</th>\n",
       "      <td>201904</td>\n",
       "      <td>127059</td>\n",
       "    </tr>\n",
       "    <tr>\n",
       "      <th>4</th>\n",
       "      <td>201905</td>\n",
       "      <td>127683</td>\n",
       "    </tr>\n",
       "    <tr>\n",
       "      <th>5</th>\n",
       "      <td>201906</td>\n",
       "      <td>129181</td>\n",
       "    </tr>\n",
       "    <tr>\n",
       "      <th>6</th>\n",
       "      <td>201907</td>\n",
       "      <td>130551</td>\n",
       "    </tr>\n",
       "    <tr>\n",
       "      <th>7</th>\n",
       "      <td>201908</td>\n",
       "      <td>132615</td>\n",
       "    </tr>\n",
       "    <tr>\n",
       "      <th>8</th>\n",
       "      <td>201909</td>\n",
       "      <td>134267</td>\n",
       "    </tr>\n",
       "    <tr>\n",
       "      <th>9</th>\n",
       "      <td>201910</td>\n",
       "      <td>136515</td>\n",
       "    </tr>\n",
       "    <tr>\n",
       "      <th>10</th>\n",
       "      <td>201911</td>\n",
       "      <td>138438</td>\n",
       "    </tr>\n",
       "    <tr>\n",
       "      <th>11</th>\n",
       "      <td>201912</td>\n",
       "      <td>140468</td>\n",
       "    </tr>\n",
       "    <tr>\n",
       "      <th>12</th>\n",
       "      <td>202001</td>\n",
       "      <td>143762</td>\n",
       "    </tr>\n",
       "    <tr>\n",
       "      <th>13</th>\n",
       "      <td>202002</td>\n",
       "      <td>146851</td>\n",
       "    </tr>\n",
       "    <tr>\n",
       "      <th>14</th>\n",
       "      <td>202003</td>\n",
       "      <td>148989</td>\n",
       "    </tr>\n",
       "    <tr>\n",
       "      <th>15</th>\n",
       "      <td>202004</td>\n",
       "      <td>149484</td>\n",
       "    </tr>\n",
       "    <tr>\n",
       "      <th>16</th>\n",
       "      <td>202005</td>\n",
       "      <td>150874</td>\n",
       "    </tr>\n",
       "    <tr>\n",
       "      <th>17</th>\n",
       "      <td>202006</td>\n",
       "      <td>153386</td>\n",
       "    </tr>\n",
       "    <tr>\n",
       "      <th>18</th>\n",
       "      <td>202007</td>\n",
       "      <td>155348</td>\n",
       "    </tr>\n",
       "    <tr>\n",
       "      <th>19</th>\n",
       "      <td>202008</td>\n",
       "      <td>156667</td>\n",
       "    </tr>\n",
       "    <tr>\n",
       "      <th>20</th>\n",
       "      <td>202009</td>\n",
       "      <td>158031</td>\n",
       "    </tr>\n",
       "    <tr>\n",
       "      <th>21</th>\n",
       "      <td>202010</td>\n",
       "      <td>159477</td>\n",
       "    </tr>\n",
       "    <tr>\n",
       "      <th>22</th>\n",
       "      <td>202011</td>\n",
       "      <td>160493</td>\n",
       "    </tr>\n",
       "    <tr>\n",
       "      <th>23</th>\n",
       "      <td>202012</td>\n",
       "      <td>161133</td>\n",
       "    </tr>\n",
       "    <tr>\n",
       "      <th>24</th>\n",
       "      <td>202101</td>\n",
       "      <td>161711</td>\n",
       "    </tr>\n",
       "    <tr>\n",
       "      <th>25</th>\n",
       "      <td>202102</td>\n",
       "      <td>162364</td>\n",
       "    </tr>\n",
       "    <tr>\n",
       "      <th>26</th>\n",
       "      <td>202103</td>\n",
       "      <td>163324</td>\n",
       "    </tr>\n",
       "    <tr>\n",
       "      <th>27</th>\n",
       "      <td>202104</td>\n",
       "      <td>163637</td>\n",
       "    </tr>\n",
       "    <tr>\n",
       "      <th>28</th>\n",
       "      <td>202105</td>\n",
       "      <td>164102</td>\n",
       "    </tr>\n",
       "    <tr>\n",
       "      <th>29</th>\n",
       "      <td>202106</td>\n",
       "      <td>164420</td>\n",
       "    </tr>\n",
       "    <tr>\n",
       "      <th>30</th>\n",
       "      <td>202107</td>\n",
       "      <td>164682</td>\n",
       "    </tr>\n",
       "  </tbody>\n",
       "</table>\n",
       "</div>"
      ],
      "text/plain": [
       "    foto_mes  cantidad\n",
       "0     201901    124864\n",
       "1     201902    125898\n",
       "2     201903    126536\n",
       "3     201904    127059\n",
       "4     201905    127683\n",
       "5     201906    129181\n",
       "6     201907    130551\n",
       "7     201908    132615\n",
       "8     201909    134267\n",
       "9     201910    136515\n",
       "10    201911    138438\n",
       "11    201912    140468\n",
       "12    202001    143762\n",
       "13    202002    146851\n",
       "14    202003    148989\n",
       "15    202004    149484\n",
       "16    202005    150874\n",
       "17    202006    153386\n",
       "18    202007    155348\n",
       "19    202008    156667\n",
       "20    202009    158031\n",
       "21    202010    159477\n",
       "22    202011    160493\n",
       "23    202012    161133\n",
       "24    202101    161711\n",
       "25    202102    162364\n",
       "26    202103    163324\n",
       "27    202104    163637\n",
       "28    202105    164102\n",
       "29    202106    164420\n",
       "30    202107    164682"
      ]
     },
     "execution_count": 8,
     "metadata": {},
     "output_type": "execute_result"
    }
   ],
   "source": [
    "%%sql\n",
    "select \n",
    "    foto_mes\n",
    "    , count(*) as cantidad -- cuenta cuantos casos hay en cada foto_mes \n",
    "                           -- y lo guarda en un campo llamado cantidad\n",
    "from competencia_02\n",
    "group by foto_mes"
   ]
  },
  {
   "cell_type": "code",
   "execution_count": 9,
   "metadata": {},
   "outputs": [
    {
     "data": {
      "application/vnd.jupyter.widget-view+json": {
       "model_id": "6e795354748947e0ab40eafd2f910b23",
       "version_major": 2,
       "version_minor": 0
      },
      "text/plain": [
       "FloatProgress(value=0.0, layout=Layout(width='auto'), style=ProgressStyle(bar_color='black'))"
      ]
     },
     "metadata": {},
     "output_type": "display_data"
    },
    {
     "data": {
      "text/html": [
       "<div>\n",
       "<style scoped>\n",
       "    .dataframe tbody tr th:only-of-type {\n",
       "        vertical-align: middle;\n",
       "    }\n",
       "\n",
       "    .dataframe tbody tr th {\n",
       "        vertical-align: top;\n",
       "    }\n",
       "\n",
       "    .dataframe thead th {\n",
       "        text-align: right;\n",
       "    }\n",
       "</style>\n",
       "<table border=\"1\" class=\"dataframe\">\n",
       "  <thead>\n",
       "    <tr style=\"text-align: right;\">\n",
       "      <th></th>\n",
       "      <th>Success</th>\n",
       "    </tr>\n",
       "  </thead>\n",
       "  <tbody>\n",
       "  </tbody>\n",
       "</table>\n",
       "</div>"
      ],
      "text/plain": [
       "Empty DataFrame\n",
       "Columns: [Success]\n",
       "Index: []"
      ]
     },
     "execution_count": 9,
     "metadata": {},
     "output_type": "execute_result"
    }
   ],
   "source": [
    "%%sql\n",
    "create or replace table targets AS\n",
    "WITH aux AS  (\n",
    "    SELECT numero_de_cliente, foto_mes,\n",
    "    (foto_mes//100-2019)*12+foto_mes%100 as mes,\n",
    "    IF(foto_mes = (select max(foto_mes) from competencia_02) , -1, lead(mes,1,0) OVER (PARTITION BY \"numero_de_cliente\" ORDER BY numero_de_cliente, mes)) AS 'mes+1',\n",
    "    IF(foto_mes = (select max(foto_mes) from competencia_02) OR foto_mes = ((select max(foto_mes) from competencia_02)-1), -1,lead(mes,2,0) OVER (PARTITION BY \"numero_de_cliente\" ORDER BY numero_de_cliente, mes)) AS 'mes+2',\n",
    "    FROM\n",
    "       competencia_02\n",
    "    ORDER BY numero_de_cliente, foto_mes)\n",
    "SELECT numero_de_cliente, foto_mes,\n",
    "CASE\n",
    "    -- Condiciones de borde:\n",
    "    WHEN (\"mes+1\"==-1) THEN 'CONTINUA'\n",
    "    WHEN (\"mes+2\"==-1) THEN 'CONTINUA'\n",
    "    -- Si mes siguiente no es consecutivo o no existe:\n",
    "    WHEN (\"mes\"+1 != \"mes+1\") THEN 'BAJA+1'\n",
    "    WHEN (\"mes\"+2 != \"mes+2\") THEN 'BAJA+2'\n",
    "    -- si proximos 2 meses consecutivos activos:\n",
    "    ELSE 'CONTINUA' END AS \"clase_ternaria\"\n",
    "FROM aux\n",
    "LEFT JOIN competencia_02 c USING (numero_de_cliente, foto_mes);"
   ]
  },
  {
   "cell_type": "code",
   "execution_count": 10,
   "metadata": {},
   "outputs": [
    {
     "data": {
      "text/html": [
       "<div>\n",
       "<style scoped>\n",
       "    .dataframe tbody tr th:only-of-type {\n",
       "        vertical-align: middle;\n",
       "    }\n",
       "\n",
       "    .dataframe tbody tr th {\n",
       "        vertical-align: top;\n",
       "    }\n",
       "\n",
       "    .dataframe thead th {\n",
       "        text-align: right;\n",
       "    }\n",
       "</style>\n",
       "<table border=\"1\" class=\"dataframe\">\n",
       "  <thead>\n",
       "    <tr style=\"text-align: right;\">\n",
       "      <th></th>\n",
       "      <th>Success</th>\n",
       "    </tr>\n",
       "  </thead>\n",
       "  <tbody>\n",
       "  </tbody>\n",
       "</table>\n",
       "</div>"
      ],
      "text/plain": [
       "Empty DataFrame\n",
       "Columns: [Success]\n",
       "Index: []"
      ]
     },
     "execution_count": 10,
     "metadata": {},
     "output_type": "execute_result"
    }
   ],
   "source": [
    "%%sql\n",
    "alter table competencia_02 add column clase_ternaria VARCHAR(10)\n"
   ]
  },
  {
   "cell_type": "code",
   "execution_count": 11,
   "metadata": {},
   "outputs": [
    {
     "data": {
      "text/html": [
       "<div>\n",
       "<style scoped>\n",
       "    .dataframe tbody tr th:only-of-type {\n",
       "        vertical-align: middle;\n",
       "    }\n",
       "\n",
       "    .dataframe tbody tr th {\n",
       "        vertical-align: top;\n",
       "    }\n",
       "\n",
       "    .dataframe thead th {\n",
       "        text-align: right;\n",
       "    }\n",
       "</style>\n",
       "<table border=\"1\" class=\"dataframe\">\n",
       "  <thead>\n",
       "    <tr style=\"text-align: right;\">\n",
       "      <th></th>\n",
       "      <th>Success</th>\n",
       "    </tr>\n",
       "  </thead>\n",
       "  <tbody>\n",
       "  </tbody>\n",
       "</table>\n",
       "</div>"
      ],
      "text/plain": [
       "Empty DataFrame\n",
       "Columns: [Success]\n",
       "Index: []"
      ]
     },
     "execution_count": 11,
     "metadata": {},
     "output_type": "execute_result"
    }
   ],
   "source": [
    "%%sql\n",
    "update competencia_02\n",
    "set clase_ternaria = targets.clase_ternaria\n",
    "from targets\n",
    "where competencia_02.numero_de_cliente = targets.numero_de_cliente and competencia_02.foto_mes = targets.foto_mes;\n"
   ]
  },
  {
   "cell_type": "code",
   "execution_count": 12,
   "metadata": {},
   "outputs": [
    {
     "data": {
      "text/html": [
       "<div>\n",
       "<style scoped>\n",
       "    .dataframe tbody tr th:only-of-type {\n",
       "        vertical-align: middle;\n",
       "    }\n",
       "\n",
       "    .dataframe tbody tr th {\n",
       "        vertical-align: top;\n",
       "    }\n",
       "\n",
       "    .dataframe thead th {\n",
       "        text-align: right;\n",
       "    }\n",
       "</style>\n",
       "<table border=\"1\" class=\"dataframe\">\n",
       "  <thead>\n",
       "    <tr style=\"text-align: right;\">\n",
       "      <th></th>\n",
       "      <th>clase_ternaria</th>\n",
       "      <th>count_star()</th>\n",
       "    </tr>\n",
       "  </thead>\n",
       "  <tbody>\n",
       "    <tr>\n",
       "      <th>0</th>\n",
       "      <td>CONTINUA</td>\n",
       "      <td>4524980</td>\n",
       "    </tr>\n",
       "    <tr>\n",
       "      <th>1</th>\n",
       "      <td>BAJA+2</td>\n",
       "      <td>18987</td>\n",
       "    </tr>\n",
       "    <tr>\n",
       "      <th>2</th>\n",
       "      <td>BAJA+1</td>\n",
       "      <td>18843</td>\n",
       "    </tr>\n",
       "  </tbody>\n",
       "</table>\n",
       "</div>"
      ],
      "text/plain": [
       "  clase_ternaria  count_star()\n",
       "0       CONTINUA       4524980\n",
       "1         BAJA+2         18987\n",
       "2         BAJA+1         18843"
      ]
     },
     "execution_count": 12,
     "metadata": {},
     "output_type": "execute_result"
    }
   ],
   "source": [
    "%%sql\n",
    "select clase_ternaria, count(*)\n",
    "from competencia_02\n",
    "group by clase_ternaria"
   ]
  },
  {
   "cell_type": "code",
   "execution_count": 13,
   "metadata": {},
   "outputs": [
    {
     "data": {
      "application/vnd.jupyter.widget-view+json": {
       "model_id": "008c58de0c7647839994d2984eccc72e",
       "version_major": 2,
       "version_minor": 0
      },
      "text/plain": [
       "FloatProgress(value=0.0, layout=Layout(width='auto'), style=ProgressStyle(bar_color='black'))"
      ]
     },
     "metadata": {},
     "output_type": "display_data"
    },
    {
     "data": {
      "text/html": [
       "<div>\n",
       "<style scoped>\n",
       "    .dataframe tbody tr th:only-of-type {\n",
       "        vertical-align: middle;\n",
       "    }\n",
       "\n",
       "    .dataframe tbody tr th {\n",
       "        vertical-align: top;\n",
       "    }\n",
       "\n",
       "    .dataframe thead th {\n",
       "        text-align: right;\n",
       "    }\n",
       "</style>\n",
       "<table border=\"1\" class=\"dataframe\">\n",
       "  <thead>\n",
       "    <tr style=\"text-align: right;\">\n",
       "      <th></th>\n",
       "      <th>Success</th>\n",
       "    </tr>\n",
       "  </thead>\n",
       "  <tbody>\n",
       "  </tbody>\n",
       "</table>\n",
       "</div>"
      ],
      "text/plain": [
       "Empty DataFrame\n",
       "Columns: [Success]\n",
       "Index: []"
      ]
     },
     "execution_count": 13,
     "metadata": {},
     "output_type": "execute_result"
    }
   ],
   "source": [
    "%%sql\n",
    "copy competencia_02 to 'C:\\Users\\Kalou\\OneDrive\\Escritorio\\DMEyF\\datasets\\competencia_02.csv'(FORMAT CSV, HEADER)\n"
   ]
  }
 ],
 "metadata": {
  "kernelspec": {
   "display_name": "Python 3",
   "language": "python",
   "name": "python3"
  },
  "language_info": {
   "codemirror_mode": {
    "name": "ipython",
    "version": 3
   },
   "file_extension": ".py",
   "mimetype": "text/x-python",
   "name": "python",
   "nbconvert_exporter": "python",
   "pygments_lexer": "ipython3",
   "version": "3.11.4"
  },
  "orig_nbformat": 4
 },
 "nbformat": 4,
 "nbformat_minor": 2
}
