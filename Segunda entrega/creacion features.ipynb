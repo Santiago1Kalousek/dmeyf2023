{
 "cells": [
  {
   "cell_type": "code",
   "execution_count": 1,
   "metadata": {},
   "outputs": [
    {
     "name": "stdout",
     "output_type": "stream",
     "text": [
      "Requirement already satisfied: duckdb in c:\\users\\kalou\\appdata\\local\\programs\\python\\python311\\lib\\site-packages (0.9.0)\n"
     ]
    },
    {
     "name": "stderr",
     "output_type": "stream",
     "text": [
      "\n",
      "[notice] A new release of pip is available: 23.1.2 -> 23.2.1\n",
      "[notice] To update, run: python.exe -m pip install --upgrade pip\n"
     ]
    },
    {
     "name": "stdout",
     "output_type": "stream",
     "text": [
      "Requirement already satisfied: jupysql in c:\\users\\kalou\\appdata\\local\\programs\\python\\python311\\lib\\site-packages (0.10.2)\n",
      "Requirement already satisfied: prettytable in c:\\users\\kalou\\appdata\\local\\programs\\python\\python311\\lib\\site-packages (from jupysql) (3.8.0)\n",
      "Requirement already satisfied: ipython in c:\\users\\kalou\\appdata\\local\\programs\\python\\python311\\lib\\site-packages (from jupysql) (8.14.0)\n",
      "Requirement already satisfied: sqlalchemy in c:\\users\\kalou\\appdata\\local\\programs\\python\\python311\\lib\\site-packages (from jupysql) (2.0.20)\n",
      "Requirement already satisfied: sqlparse in c:\\users\\kalou\\appdata\\local\\programs\\python\\python311\\lib\\site-packages (from jupysql) (0.4.4)\n",
      "Requirement already satisfied: ipython-genutils>=0.1.0 in c:\\users\\kalou\\appdata\\local\\programs\\python\\python311\\lib\\site-packages (from jupysql) (0.2.0)\n",
      "Requirement already satisfied: jinja2 in c:\\users\\kalou\\appdata\\local\\programs\\python\\python311\\lib\\site-packages (from jupysql) (3.1.2)\n",
      "Requirement already satisfied: sqlglot>=11.3.7 in c:\\users\\kalou\\appdata\\local\\programs\\python\\python311\\lib\\site-packages (from jupysql) (17.14.2)\n",
      "Requirement already satisfied: ploomber-core>=0.2.7 in c:\\users\\kalou\\appdata\\local\\programs\\python\\python311\\lib\\site-packages (from jupysql) (0.2.14)\n",
      "Requirement already satisfied: jupysql-plugin in c:\\users\\kalou\\appdata\\local\\programs\\python\\python311\\lib\\site-packages (from jupysql) (0.2.5)\n",
      "Requirement already satisfied: click in c:\\users\\kalou\\appdata\\local\\programs\\python\\python311\\lib\\site-packages (from ploomber-core>=0.2.7->jupysql) (8.1.7)\n",
      "Requirement already satisfied: pyyaml in c:\\users\\kalou\\appdata\\local\\programs\\python\\python311\\lib\\site-packages (from ploomber-core>=0.2.7->jupysql) (6.0.1)\n",
      "Requirement already satisfied: posthog in c:\\users\\kalou\\appdata\\local\\programs\\python\\python311\\lib\\site-packages (from ploomber-core>=0.2.7->jupysql) (3.0.2)\n",
      "Requirement already satisfied: backcall in c:\\users\\kalou\\appdata\\local\\programs\\python\\python311\\lib\\site-packages (from ipython->jupysql) (0.2.0)\n",
      "Requirement already satisfied: decorator in c:\\users\\kalou\\appdata\\local\\programs\\python\\python311\\lib\\site-packages (from ipython->jupysql) (5.1.1)\n",
      "Requirement already satisfied: jedi>=0.16 in c:\\users\\kalou\\appdata\\local\\programs\\python\\python311\\lib\\site-packages (from ipython->jupysql) (0.19.0)\n",
      "Requirement already satisfied: matplotlib-inline in c:\\users\\kalou\\appdata\\local\\programs\\python\\python311\\lib\\site-packages (from ipython->jupysql) (0.1.6)\n",
      "Requirement already satisfied: pickleshare in c:\\users\\kalou\\appdata\\local\\programs\\python\\python311\\lib\\site-packages (from ipython->jupysql) (0.7.5)\n",
      "Requirement already satisfied: prompt-toolkit!=3.0.37,<3.1.0,>=3.0.30 in c:\\users\\kalou\\appdata\\local\\programs\\python\\python311\\lib\\site-packages (from ipython->jupysql) (3.0.39)\n",
      "Requirement already satisfied: pygments>=2.4.0 in c:\\users\\kalou\\appdata\\local\\programs\\python\\python311\\lib\\site-packages (from ipython->jupysql) (2.16.1)\n",
      "Requirement already satisfied: stack-data in c:\\users\\kalou\\appdata\\local\\programs\\python\\python311\\lib\\site-packages (from ipython->jupysql) (0.6.2)\n",
      "Requirement already satisfied: traitlets>=5 in c:\\users\\kalou\\appdata\\local\\programs\\python\\python311\\lib\\site-packages (from ipython->jupysql) (5.9.0)\n",
      "Requirement already satisfied: colorama in c:\\users\\kalou\\appdata\\local\\programs\\python\\python311\\lib\\site-packages (from ipython->jupysql) (0.4.6)\n",
      "Requirement already satisfied: MarkupSafe>=2.0 in c:\\users\\kalou\\appdata\\local\\programs\\python\\python311\\lib\\site-packages (from jinja2->jupysql) (2.1.3)\n",
      "Requirement already satisfied: wcwidth in c:\\users\\kalou\\appdata\\local\\programs\\python\\python311\\lib\\site-packages (from prettytable->jupysql) (0.2.6)\n",
      "Requirement already satisfied: typing-extensions>=4.2.0 in c:\\users\\kalou\\appdata\\local\\programs\\python\\python311\\lib\\site-packages (from sqlalchemy->jupysql) (4.7.1)\n",
      "Requirement already satisfied: greenlet!=0.4.17 in c:\\users\\kalou\\appdata\\local\\programs\\python\\python311\\lib\\site-packages (from sqlalchemy->jupysql) (2.0.2)\n",
      "Requirement already satisfied: parso<0.9.0,>=0.8.3 in c:\\users\\kalou\\appdata\\local\\programs\\python\\python311\\lib\\site-packages (from jedi>=0.16->ipython->jupysql) (0.8.3)\n",
      "Requirement already satisfied: requests<3.0,>=2.7 in c:\\users\\kalou\\appdata\\local\\programs\\python\\python311\\lib\\site-packages (from posthog->ploomber-core>=0.2.7->jupysql) (2.31.0)\n",
      "Requirement already satisfied: six>=1.5 in c:\\users\\kalou\\appdata\\local\\programs\\python\\python311\\lib\\site-packages (from posthog->ploomber-core>=0.2.7->jupysql) (1.16.0)\n",
      "Requirement already satisfied: monotonic>=1.5 in c:\\users\\kalou\\appdata\\local\\programs\\python\\python311\\lib\\site-packages (from posthog->ploomber-core>=0.2.7->jupysql) (1.6)\n",
      "Requirement already satisfied: backoff>=1.10.0 in c:\\users\\kalou\\appdata\\local\\programs\\python\\python311\\lib\\site-packages (from posthog->ploomber-core>=0.2.7->jupysql) (2.2.1)\n",
      "Requirement already satisfied: python-dateutil>2.1 in c:\\users\\kalou\\appdata\\local\\programs\\python\\python311\\lib\\site-packages (from posthog->ploomber-core>=0.2.7->jupysql) (2.8.2)\n",
      "Requirement already satisfied: executing>=1.2.0 in c:\\users\\kalou\\appdata\\local\\programs\\python\\python311\\lib\\site-packages (from stack-data->ipython->jupysql) (1.2.0)\n",
      "Requirement already satisfied: asttokens>=2.1.0 in c:\\users\\kalou\\appdata\\local\\programs\\python\\python311\\lib\\site-packages (from stack-data->ipython->jupysql) (2.2.1)\n",
      "Requirement already satisfied: pure-eval in c:\\users\\kalou\\appdata\\local\\programs\\python\\python311\\lib\\site-packages (from stack-data->ipython->jupysql) (0.2.2)\n",
      "Requirement already satisfied: charset-normalizer<4,>=2 in c:\\users\\kalou\\appdata\\local\\programs\\python\\python311\\lib\\site-packages (from requests<3.0,>=2.7->posthog->ploomber-core>=0.2.7->jupysql) (3.2.0)\n",
      "Requirement already satisfied: idna<4,>=2.5 in c:\\users\\kalou\\appdata\\local\\programs\\python\\python311\\lib\\site-packages (from requests<3.0,>=2.7->posthog->ploomber-core>=0.2.7->jupysql) (3.4)\n",
      "Requirement already satisfied: urllib3<3,>=1.21.1 in c:\\users\\kalou\\appdata\\local\\programs\\python\\python311\\lib\\site-packages (from requests<3.0,>=2.7->posthog->ploomber-core>=0.2.7->jupysql) (2.0.4)\n",
      "Requirement already satisfied: certifi>=2017.4.17 in c:\\users\\kalou\\appdata\\local\\programs\\python\\python311\\lib\\site-packages (from requests<3.0,>=2.7->posthog->ploomber-core>=0.2.7->jupysql) (2023.7.22)\n"
     ]
    },
    {
     "name": "stderr",
     "output_type": "stream",
     "text": [
      "\n",
      "[notice] A new release of pip is available: 23.1.2 -> 23.2.1\n",
      "[notice] To update, run: python.exe -m pip install --upgrade pip\n"
     ]
    },
    {
     "name": "stdout",
     "output_type": "stream",
     "text": [
      "Requirement already satisfied: duckdb-engine in c:\\users\\kalou\\appdata\\local\\programs\\python\\python311\\lib\\site-packages (0.9.2)\n",
      "Requirement already satisfied: duckdb>=0.4.0 in c:\\users\\kalou\\appdata\\local\\programs\\python\\python311\\lib\\site-packages (from duckdb-engine) (0.9.0)\n",
      "Requirement already satisfied: sqlalchemy>=1.3.22 in c:\\users\\kalou\\appdata\\local\\programs\\python\\python311\\lib\\site-packages (from duckdb-engine) (2.0.20)\n",
      "Requirement already satisfied: typing-extensions>=4.2.0 in c:\\users\\kalou\\appdata\\local\\programs\\python\\python311\\lib\\site-packages (from sqlalchemy>=1.3.22->duckdb-engine) (4.7.1)\n",
      "Requirement already satisfied: greenlet!=0.4.17 in c:\\users\\kalou\\appdata\\local\\programs\\python\\python311\\lib\\site-packages (from sqlalchemy>=1.3.22->duckdb-engine) (2.0.2)\n"
     ]
    },
    {
     "name": "stderr",
     "output_type": "stream",
     "text": [
      "\n",
      "[notice] A new release of pip is available: 23.1.2 -> 23.2.1\n",
      "[notice] To update, run: python.exe -m pip install --upgrade pip\n"
     ]
    }
   ],
   "source": [
    "!pip install --upgrade duckdb\n",
    "!pip install --upgrade jupysql\n",
    "!pip install --upgrade duckdb-engine\n"
   ]
  },
  {
   "cell_type": "code",
   "execution_count": 2,
   "metadata": {},
   "outputs": [],
   "source": [
    "import duckdb\n",
    "import pandas as pd\n",
    "\n",
    "%load_ext sql\n",
    "%config SqlMagic.autopandas = True\n",
    "%config SqlMagic.feedback = False\n",
    "%config SqlMagic.displaycon = False\n",
    "\n",
    "%sql duckdb:///:default:\n"
   ]
  },
  {
   "cell_type": "code",
   "execution_count": 3,
   "metadata": {},
   "outputs": [
    {
     "data": {
      "application/vnd.jupyter.widget-view+json": {
       "model_id": "77525cc7200f4926a546bae301a3a9e0",
       "version_major": 2,
       "version_minor": 0
      },
      "text/plain": [
       "FloatProgress(value=0.0, layout=Layout(width='auto'), style=ProgressStyle(bar_color='black'))"
      ]
     },
     "metadata": {},
     "output_type": "display_data"
    },
    {
     "data": {
      "text/html": [
       "<div>\n",
       "<style scoped>\n",
       "    .dataframe tbody tr th:only-of-type {\n",
       "        vertical-align: middle;\n",
       "    }\n",
       "\n",
       "    .dataframe tbody tr th {\n",
       "        vertical-align: top;\n",
       "    }\n",
       "\n",
       "    .dataframe thead th {\n",
       "        text-align: right;\n",
       "    }\n",
       "</style>\n",
       "<table border=\"1\" class=\"dataframe\">\n",
       "  <thead>\n",
       "    <tr style=\"text-align: right;\">\n",
       "      <th></th>\n",
       "      <th>Success</th>\n",
       "    </tr>\n",
       "  </thead>\n",
       "  <tbody>\n",
       "  </tbody>\n",
       "</table>\n",
       "</div>"
      ],
      "text/plain": [
       "Empty DataFrame\n",
       "Columns: [Success]\n",
       "Index: []"
      ]
     },
     "execution_count": 3,
     "metadata": {},
     "output_type": "execute_result"
    }
   ],
   "source": [
    "%%sql\n",
    "create or replace table competencia_02 as \n",
    "select \n",
    "    *\n",
    "from read_csv_auto('C:\\Users\\Kalou\\OneDrive\\Escritorio\\DMEyF\\datasets\\exp_KA5240_dataset_con_FE.csv')"
   ]
  },
  {
   "cell_type": "code",
   "execution_count": 4,
   "metadata": {},
   "outputs": [
    {
     "data": {
      "application/vnd.jupyter.widget-view+json": {
       "model_id": "e2bccc2151cf451f8e638134c73740de",
       "version_major": 2,
       "version_minor": 0
      },
      "text/plain": [
       "FloatProgress(value=0.0, layout=Layout(width='auto'), style=ProgressStyle(bar_color='black'))"
      ]
     },
     "metadata": {},
     "output_type": "display_data"
    },
    {
     "data": {
      "text/html": [
       "<div>\n",
       "<style scoped>\n",
       "    .dataframe tbody tr th:only-of-type {\n",
       "        vertical-align: middle;\n",
       "    }\n",
       "\n",
       "    .dataframe tbody tr th {\n",
       "        vertical-align: top;\n",
       "    }\n",
       "\n",
       "    .dataframe thead th {\n",
       "        text-align: right;\n",
       "    }\n",
       "</style>\n",
       "<table border=\"1\" class=\"dataframe\">\n",
       "  <thead>\n",
       "    <tr style=\"text-align: right;\">\n",
       "      <th></th>\n",
       "      <th>Success</th>\n",
       "    </tr>\n",
       "  </thead>\n",
       "  <tbody>\n",
       "  </tbody>\n",
       "</table>\n",
       "</div>"
      ],
      "text/plain": [
       "Empty DataFrame\n",
       "Columns: [Success]\n",
       "Index: []"
      ]
     },
     "execution_count": 4,
     "metadata": {},
     "output_type": "execute_result"
    }
   ],
   "source": [
    "%%sql\n",
    "create or replace table competencia_02_max_min as \n",
    "select\n",
    "*\n",
    "  , max(ctrx_quarter) over ventana_6 as ctrx_quarter_max_6\n",
    "  , max(limite_consumo) over ventana_6 as ctrx_limite_consumo_max_6\n",
    "  , max(limite_pagos) over ventana_6 as ctrx_limite_pagos_max_6\n",
    "  , max(monto_transf_saldo) over ventana_6 as ctrx_monto_transf_saldo_max_6\n",
    "  , max(mrentabilidad) over ventana_6 as ctrx_mrentabilidad_max_6\n",
    "  , max(mrentabilidad_annual) over ventana_6 as ctrx_mrentabilidad_annual_max_6\n",
    "  , max(cheq_rechazados_emitidos) over ventana_6 as ctrx_cheq_rechazados_emitidos_max_6\n",
    "  , max(productos_sobre_antiguedad) over ventana_6 as ctrx_productos_sobre_antiguedad_max_6\n",
    "  , max(activos_sobre_pasivo) over ventana_6 as ctrx_activos_sobre_pasivo_max_6\n",
    "  , max(transaccionesXtarjeta) over ventana_6 as ctrx_transaccionesXtarjeta_max_6\n",
    "  , max(transaccionesXDebito) over ventana_6 as ctrx_transaccionesXDebito_max_6\n",
    "  , max(comisiones_rentabilidad) over ventana_6 as ctrx_comisiones_rentabilidad_max_6\n",
    "  , max(rentabiilidad_antiguedad) over ventana_6 as ctrx_rentabiilidad_antiguedad_max_6\n",
    "  , max(edad_antiguedad) over ventana_6 as ctrx_edad_antiguedad_max_6\n",
    "  , max(visa_master_mpagominimo) over ventana_6 as ctrx_visa_master_mpagominimo_max_6\n",
    "  , max(visa_master_cadelantosefectivo) over ventana_6 as ctrx_visa_master_cadelantosefectivo_max_6\n",
    "  , max(visa_master_cconsumos) over ventana_6 as ctrx_visa_master_cconsumos_max_6\n",
    "  , max(visa_master_mconsumototal) over ventana_6 as ctrx_visa_master_mconsumototal_max_6\n",
    "  , max(visa_master_mlimitecompra) over ventana_6 as ctrx_visa_master_mlimitecompra_max_6\n",
    "  , max(visa_master_mconsumosdolares) over ventana_6 as ctrx_visa_master_mconsumosdolares_max_6\n",
    "  , max(visa_master_mconsumospesos) over ventana_6 as ctrx_visa_master_mconsumospesos_max_6\n",
    "  , max(visa_master_msaldototal) over ventana_6 as ctrx_visa_master_msaldototal_max_6\n",
    "  , max(visa_master_Finiciomora) over ventana_6 as ctrx_visa_master_Finiciomora_max_6\n",
    "  , max(visa_master_Fvencimiento) over ventana_6 as ctrx_visa_master_Fvencimiento_max_6\n",
    "  , max(visa_master_mfinanciacion_limite) over ventana_6 as ctrx_visa_master_mfinanciacion_limite_max_6\n",
    "  , max(visa_master_status) over ventana_6 as ctrx_visa_master_status_max_6\n",
    "  , max(cplazo_fijo) over ventana_6 as ctrx_cplazo_fijo_max_6\n",
    "  , max(mplazo_fijo_dolares) over ventana_6 as ctrx_mplazo_fijo_dolares_max_6\n",
    "  , max(mplazo_fijo_pesos) over ventana_6 as ctrx_mplazo_fijo_pesos_max_6\n",
    "  , max(cinversion1) over ventana_6 as ctrx_cinversion1_max_6\n",
    "  , max(minversion1_pesos) over ventana_6 as ctrx_minversion1_pesos_max_6\n",
    "  , max(minversion1_dolares) over ventana_6 as ctrx_minversion1_dolares_max_6\n",
    "  , max(ccaja_seguridad) over ventana_6 as ctrx_ccaja_seguridad_max_6\n",
    "  , max(cpayroll_trx) over ventana_6 as ctrx_cpayroll_trx_max_6\n",
    "  , max(mpayroll) over ventana_6 as ctrx_mpayroll_max_6\n",
    "  , max(ccomisiones_mantenimiento) over ventana_6 as ctrx_ccomisiones_mantenimiento_max_6\n",
    "  , max(mcomisiones_mantenimiento) over ventana_6 as ctrx_mcomisiones_mantenimiento_max_6\n",
    "  , max(ctransferencias_recibidas) over ventana_6 as ctrx_ctransferencias_recibidas_max_6\n",
    "  , max(mtransferencias_recibidas) over ventana_6 as ctrx_mtransferencias_recibidas_max_6\n",
    "  , max(thomebanking) over ventana_6 as ctrx_thomebanking_max_6\n",
    "  , max(chomebanking_transacciones) over ventana_6 as ctrx_chomebanking_transacciones_max_6\n",
    "  , max(ccajas_transacciones) over ventana_6 as ctrx_ccajas_transacciones_max_6\n",
    "  , max(ccajas_consultas) over ventana_6 as ctrx_ccajas_consultas_max_6\n",
    "  , max(ccajas_depositos) over ventana_6 as ctrx_ccajas_depositos_max_6\n",
    "  , max(ccajas_extracciones) over ventana_6 as ctrx_ccajas_extracciones_max_6\n",
    "  , max(ccajas_otras) over ventana_6 as ctrx_ccajas_otras_max_6\n",
    "  , max(catm_trx) over ventana_6 as ctrx_catm_trx_max_6\n",
    "  , max(matm) over ventana_6 as ctrx_matm_max_6\n",
    "  , min(ctrx_quarter) over ventana_6 as ctrx_quarter_min_6\n",
    "  , min(limite_consumo)  over ventana_6 as ctrx_limite_consumo_min_6\n",
    "  , min(limite_pagos)  over ventana_6 as ctrx_limite_pagos_min_6\n",
    "  , min(monto_transf_saldo)  over ventana_6 as ctrx_monto_transf_saldo_min_6\n",
    "  , min(mrentabilidad)  over ventana_6 as ctrx_mrentabilidad_min_6\n",
    "  , min(mrentabilidad_annual)  over ventana_6 as ctrx_mrentabilidad_annual_min_6\n",
    "  , min(cheq_rechazados_emitidos)  over ventana_6 as ctrx_cheq_rechazados_emitidos_min_6\n",
    "  , min(productos_sobre_antiguedad)  over ventana_6 as ctrx_productos_sobre_antiguedad_min_6\n",
    "  , min(activos_sobre_pasivo)  over ventana_6 as ctrx_activos_sobre_pasivo_min_6\n",
    "  , min(transaccionesXtarjeta)  over ventana_6 as ctrx_transaccionesXtarjeta_min_6\n",
    "  , min(transaccionesXDebito)  over ventana_6 as ctrx_transaccionesXDebito_min_6\n",
    "  , min(comisiones_rentabilidad)  over ventana_6 as ctrx_comisiones_rentabilidad_min_6\n",
    "  , min(rentabiilidad_antiguedad)  over ventana_6 as ctrx_rentabiilidad_antiguedad_min_6\n",
    "  , min(edad_antiguedad)  over ventana_6 as ctrx_edad_antiguedad_min_6\n",
    "  , min(visa_master_mpagominimo)  over ventana_6 as ctrx_visa_master_mpagominimo_min_6\n",
    "  , min(visa_master_cadelantosefectivo)  over ventana_6 as ctrx_visa_master_cadelantosefectivo_min_6\n",
    "  , min(visa_master_cconsumos)  over ventana_6 as ctrx_visa_master_cconsumos_min_6\n",
    "  , min(visa_master_mconsumototal)  over ventana_6 as ctrx_visa_master_mconsumototal_min_6\n",
    "  , min(visa_master_mlimitecompra)  over ventana_6 as ctrx_visa_master_mlimitecompra_min_6\n",
    "  , min(visa_master_mconsumosdolares)  over ventana_6 as ctrx_visa_master_mconsumosdolares_min_6\n",
    "  , min(visa_master_mconsumospesos)  over ventana_6 as ctrx_visa_master_mconsumospesos_min_6\n",
    "  , min(visa_master_msaldototal)  over ventana_6 as ctrx_visa_master_msaldototal_min_6\n",
    "  , min(visa_master_Finiciomora)  over ventana_6 as ctrx_visa_master_Finiciomora_min_6\n",
    "  , min(visa_master_Fvencimiento)  over ventana_6 as ctrx_visa_master_Fvencimiento_min_6\n",
    "  , min(visa_master_mfinanciacion_limite)  over ventana_6 as ctrx_visa_master_mfinanciacion_limite_min_6\n",
    "  , min(visa_master_status)  over ventana_6 as ctrx_visa_master_status_min_6\n",
    "  , min(cplazo_fijo)  over ventana_6 as ctrx_cplazo_fijo_min_6\n",
    "  , min(mplazo_fijo_dolares)  over ventana_6 as ctrx_mplazo_fijo_dolares_min_6\n",
    "  , min(mplazo_fijo_pesos)  over ventana_6 as ctrx_mplazo_fijo_pesos_min_6\n",
    "  , min(cinversion1)  over ventana_6 as ctrx_cinversion1_min_6\n",
    "  , min(minversion1_pesos)  over ventana_6 as ctrx_minversion1_pesos_min_6\n",
    "  , min(minversion1_dolares)  over ventana_6 as ctrx_minversion1_dolares_min_6\n",
    "  , min(ccaja_seguridad)  over ventana_6 as ctrx_ccaja_seguridad_min_6\n",
    "  , min(cpayroll_trx)  over ventana_6 as ctrx_cpayroll_trx_min_6\n",
    "  , min(mpayroll)  over ventana_6 as ctrx_mpayroll_min_6\n",
    "  , min(ccomisiones_mantenimiento)  over ventana_6 as ctrx_ccomisiones_mantenimiento_min_6\n",
    "  , min(mcomisiones_mantenimiento)  over ventana_6 as ctrx_mcomisiones_mantenimiento_min_6\n",
    "  , min(ctransferencias_recibidas)  over ventana_6 as ctrx_ctransferencias_recibidas_min_6\n",
    "  , min(mtransferencias_recibidas)  over ventana_6 as ctrx_mtransferencias_recibidas_min_6\n",
    "  , min(thomebanking)  over ventana_6 as ctrx_thomebanking_min_6\n",
    "  , min(chomebanking_transacciones)  over ventana_6 as ctrx_chomebanking_transacciones_min_6\n",
    "  , min(ccajas_transacciones)  over ventana_6 as ctrx_ccajas_transacciones_min_6\n",
    "  , min(ccajas_consultas)  over ventana_6 as ctrx_ccajas_consultas_min_6\n",
    "  , min(ccajas_depositos)  over ventana_6 as ctrx_ccajas_depositos_min_6\n",
    "  , min(ccajas_extracciones)  over ventana_6 as ctrx_ccajas_extracciones_min_6\n",
    "  , min(ccajas_otras)  over ventana_6 as ctrx_ccajas_otras_min_6\n",
    "  , min(catm_trx)  over ventana_6 as ctrx_catm_trx_min_6\n",
    "  , min(matm)  over ventana_6 as ctrx_matm_min_6\n",
    "from competencia_02 c2\n",
    "window ventana_6 as (partition by numero_de_cliente order by foto_mes rows between 6 preceding and current row)"
   ]
  },
  {
   "cell_type": "code",
   "execution_count": 21,
   "metadata": {},
   "outputs": [
    {
     "data": {
      "application/vnd.jupyter.widget-view+json": {
       "model_id": "896f0549be7d470887a46fa0ee90fe7e",
       "version_major": 2,
       "version_minor": 0
      },
      "text/plain": [
       "FloatProgress(value=0.0, layout=Layout(width='auto'), style=ProgressStyle(bar_color='black'))"
      ]
     },
     "metadata": {},
     "output_type": "display_data"
    },
    {
     "data": {
      "text/html": [
       "<div>\n",
       "<style scoped>\n",
       "    .dataframe tbody tr th:only-of-type {\n",
       "        vertical-align: middle;\n",
       "    }\n",
       "\n",
       "    .dataframe tbody tr th {\n",
       "        vertical-align: top;\n",
       "    }\n",
       "\n",
       "    .dataframe thead th {\n",
       "        text-align: right;\n",
       "    }\n",
       "</style>\n",
       "<table border=\"1\" class=\"dataframe\">\n",
       "  <thead>\n",
       "    <tr style=\"text-align: right;\">\n",
       "      <th></th>\n",
       "      <th>Success</th>\n",
       "    </tr>\n",
       "  </thead>\n",
       "  <tbody>\n",
       "  </tbody>\n",
       "</table>\n",
       "</div>"
      ],
      "text/plain": [
       "Empty DataFrame\n",
       "Columns: [Success]\n",
       "Index: []"
      ]
     },
     "execution_count": 21,
     "metadata": {},
     "output_type": "execute_result"
    }
   ],
   "source": [
    "%%sql\n",
    "create or replace table competencia_02_con_lag as \n",
    "select\n",
    "*\n",
    ", LAG(limite_consumo, 1) OVER (PARTITION BY numero_de_cliente ORDER BY foto_mes) AS lag_1_limite_consumo, LAG(limite_consumo, 3) OVER (PARTITION BY numero_de_cliente ORDER BY foto_mes) AS lag_3_limite_consumo \n",
    ", LAG(limite_pagos, 1) OVER (PARTITION BY numero_de_cliente ORDER BY foto_mes) AS lag_1_limite_pagos, LAG(limite_pagos, 3) OVER (PARTITION BY numero_de_cliente ORDER BY foto_mes) AS lag_3_limite_pagos \n",
    ", LAG(monto_transf_saldo, 1) OVER (PARTITION BY numero_de_cliente ORDER BY foto_mes) AS lag_1_monto_transf_saldo, LAG(monto_transf_saldo, 3) OVER (PARTITION BY numero_de_cliente ORDER BY foto_mes) AS lag_3_monto_transf_saldo \n",
    ", LAG(mrentabilidad, 1) OVER (PARTITION BY numero_de_cliente ORDER BY foto_mes) AS lag_1_mrentabilidad, LAG(mrentabilidad, 3) OVER (PARTITION BY numero_de_cliente ORDER BY foto_mes) AS lag_3_mrentabilidad \n",
    ", LAG(mrentabilidad_annual, 1) OVER (PARTITION BY numero_de_cliente ORDER BY foto_mes) AS lag_1_mrentabilidad_annual, LAG(mrentabilidad_annual, 3) OVER (PARTITION BY numero_de_cliente ORDER BY foto_mes) AS lag_3_mrentabilidad_annual \n",
    ", LAG(cheq_rechazados_emitidos, 1) OVER (PARTITION BY numero_de_cliente ORDER BY foto_mes) AS lag_1_cheq_rechazados_emitidos, LAG(cheq_rechazados_emitidos, 3) OVER (PARTITION BY numero_de_cliente ORDER BY foto_mes) AS lag_3_cheq_rechazados_emitidos \n",
    ", LAG(productos_sobre_antiguedad, 1) OVER (PARTITION BY numero_de_cliente ORDER BY foto_mes) AS lag_1_productos_sobre_antiguedad, LAG(productos_sobre_antiguedad, 3) OVER (PARTITION BY numero_de_cliente ORDER BY foto_mes) AS lag_3_productos_sobre_antiguedad \n",
    ", LAG(activos_sobre_pasivo, 1) OVER (PARTITION BY numero_de_cliente ORDER BY foto_mes) AS lag_1_activos_sobre_pasivo, LAG(activos_sobre_pasivo, 3) OVER (PARTITION BY numero_de_cliente ORDER BY foto_mes) AS lag_3_activos_sobre_pasivo \n",
    ", LAG(transaccionesXtarjeta, 1) OVER (PARTITION BY numero_de_cliente ORDER BY foto_mes) AS lag_1_transaccionesXtarjeta, LAG(transaccionesXtarjeta, 3) OVER (PARTITION BY numero_de_cliente ORDER BY foto_mes) AS lag_3_transaccionesXtarjeta \n",
    ", LAG(transaccionesXDebito, 1) OVER (PARTITION BY numero_de_cliente ORDER BY foto_mes) AS lag_1_transaccionesXDebito, LAG(transaccionesXDebito, 3) OVER (PARTITION BY numero_de_cliente ORDER BY foto_mes) AS lag_3_transaccionesXDebito \n",
    ", LAG(comisiones_rentabilidad, 1) OVER (PARTITION BY numero_de_cliente ORDER BY foto_mes) AS lag_1_comisiones_rentabilidad, LAG(comisiones_rentabilidad, 3) OVER (PARTITION BY numero_de_cliente ORDER BY foto_mes) AS lag_3_comisiones_rentabilidad \n",
    ", LAG(rentabiilidad_antiguedad, 1) OVER (PARTITION BY numero_de_cliente ORDER BY foto_mes) AS lag_1_rentabiilidad_antiguedad, LAG(rentabiilidad_antiguedad, 3) OVER (PARTITION BY numero_de_cliente ORDER BY foto_mes) AS lag_3_rentabiilidad_antiguedad \n",
    ", LAG(edad_antiguedad, 1) OVER (PARTITION BY numero_de_cliente ORDER BY foto_mes) AS lag_1_edad_antiguedad, LAG(edad_antiguedad, 3) OVER (PARTITION BY numero_de_cliente ORDER BY foto_mes) AS lag_3_edad_antiguedad \n",
    ", LAG(visa_master_mpagominimo, 1) OVER (PARTITION BY numero_de_cliente ORDER BY foto_mes) AS lag_1_visa_master_mpagominimo, LAG(visa_master_mpagominimo, 3) OVER (PARTITION BY numero_de_cliente ORDER BY foto_mes) AS lag_3_visa_master_mpagominimo \n",
    ", LAG(visa_master_cadelantosefectivo, 1) OVER (PARTITION BY numero_de_cliente ORDER BY foto_mes) AS lag_1_visa_master_cadelantosefectivo, LAG(visa_master_cadelantosefectivo, 3) OVER (PARTITION BY numero_de_cliente ORDER BY foto_mes) AS lag_3_visa_master_cadelantosefectivo \n",
    ", LAG(visa_master_cconsumos, 1) OVER (PARTITION BY numero_de_cliente ORDER BY foto_mes) AS lag_1_visa_master_cconsumos, LAG(visa_master_cconsumos, 3) OVER (PARTITION BY numero_de_cliente ORDER BY foto_mes) AS lag_3_visa_master_cconsumos \n",
    ", LAG(visa_master_mconsumototal, 1) OVER (PARTITION BY numero_de_cliente ORDER BY foto_mes) AS lag_1_visa_master_mconsumototal, LAG(visa_master_mconsumototal, 3) OVER (PARTITION BY numero_de_cliente ORDER BY foto_mes) AS lag_3_visa_master_mconsumototal \n",
    ", LAG(visa_master_mlimitecompra, 1) OVER (PARTITION BY numero_de_cliente ORDER BY foto_mes) AS lag_1_visa_master_mlimitecompra, LAG(visa_master_mlimitecompra, 3) OVER (PARTITION BY numero_de_cliente ORDER BY foto_mes) AS lag_3_visa_master_mlimitecompra \n",
    ", LAG(visa_master_mconsumosdolares, 1) OVER (PARTITION BY numero_de_cliente ORDER BY foto_mes) AS lag_1_visa_master_mconsumosdolares, LAG(visa_master_mconsumosdolares, 3) OVER (PARTITION BY numero_de_cliente ORDER BY foto_mes) AS lag_3_visa_master_mconsumosdolares \n",
    ", LAG(visa_master_mconsumospesos, 1) OVER (PARTITION BY numero_de_cliente ORDER BY foto_mes) AS lag_1_visa_master_mconsumospesos, LAG(visa_master_mconsumospesos, 3) OVER (PARTITION BY numero_de_cliente ORDER BY foto_mes) AS lag_3_visa_master_mconsumospesos \n",
    ", LAG(visa_master_msaldototal, 1) OVER (PARTITION BY numero_de_cliente ORDER BY foto_mes) AS lag_1_visa_master_msaldototal, LAG(visa_master_msaldototal, 3) OVER (PARTITION BY numero_de_cliente ORDER BY foto_mes) AS lag_3_visa_master_msaldototal \n",
    ", LAG(visa_master_Finiciomora, 1) OVER (PARTITION BY numero_de_cliente ORDER BY foto_mes) AS lag_1_visa_master_Finiciomora, LAG(visa_master_Finiciomora, 3) OVER (PARTITION BY numero_de_cliente ORDER BY foto_mes) AS lag_3_visa_master_Finiciomora \n",
    ", LAG(visa_master_Fvencimiento, 1) OVER (PARTITION BY numero_de_cliente ORDER BY foto_mes) AS lag_1_visa_master_Fvencimiento, LAG(visa_master_Fvencimiento, 3) OVER (PARTITION BY numero_de_cliente ORDER BY foto_mes) AS lag_3_visa_master_Fvencimiento \n",
    ", LAG(visa_master_mfinanciacion_limite, 1) OVER (PARTITION BY numero_de_cliente ORDER BY foto_mes) AS lag_1_visa_master_mfinanciacion_limite, LAG(visa_master_mfinanciacion_limite, 3) OVER (PARTITION BY numero_de_cliente ORDER BY foto_mes) AS lag_3_visa_master_mfinanciacion_limite \n",
    ", LAG(visa_master_status, 1) OVER (PARTITION BY numero_de_cliente ORDER BY foto_mes) AS lag_1_visa_master_status, LAG(visa_master_status, 3) OVER (PARTITION BY numero_de_cliente ORDER BY foto_mes) AS lag_3_visa_master_status \n",
    ", LAG(cplazo_fijo, 1) OVER (PARTITION BY numero_de_cliente ORDER BY foto_mes) AS lag_1_cplazo_fijo, LAG(cplazo_fijo, 3) OVER (PARTITION BY numero_de_cliente ORDER BY foto_mes) AS lag_3_cplazo_fijo \n",
    ", LAG(mplazo_fijo_dolares, 1) OVER (PARTITION BY numero_de_cliente ORDER BY foto_mes) AS lag_1_mplazo_fijo_dolares, LAG(mplazo_fijo_dolares, 3) OVER (PARTITION BY numero_de_cliente ORDER BY foto_mes) AS lag_3_mplazo_fijo_dolares \n",
    ", LAG(mplazo_fijo_pesos, 1) OVER (PARTITION BY numero_de_cliente ORDER BY foto_mes) AS lag_1_mplazo_fijo_pesos, LAG(mplazo_fijo_pesos, 3) OVER (PARTITION BY numero_de_cliente ORDER BY foto_mes) AS lag_3_mplazo_fijo_pesos \n",
    ", LAG(cinversion1, 1) OVER (PARTITION BY numero_de_cliente ORDER BY foto_mes) AS lag_1_cinversion1, LAG(cinversion1, 3) OVER (PARTITION BY numero_de_cliente ORDER BY foto_mes) AS lag_3_cinversion1 \n",
    ", LAG(minversion1_pesos, 1) OVER (PARTITION BY numero_de_cliente ORDER BY foto_mes) AS lag_1_minversion1_pesos, LAG(minversion1_pesos, 3) OVER (PARTITION BY numero_de_cliente ORDER BY foto_mes) AS lag_3_minversion1_pesos \n",
    ", LAG(minversion1_dolares, 1) OVER (PARTITION BY numero_de_cliente ORDER BY foto_mes) AS lag_1_minversion1_dolares, LAG(minversion1_dolares, 3) OVER (PARTITION BY numero_de_cliente ORDER BY foto_mes) AS lag_3_minversion1_dolares \n",
    ", LAG(ccaja_seguridad, 1) OVER (PARTITION BY numero_de_cliente ORDER BY foto_mes) AS lag_1_ccaja_seguridad, LAG(ccaja_seguridad, 3) OVER (PARTITION BY numero_de_cliente ORDER BY foto_mes) AS lag_3_ccaja_seguridad \n",
    ", LAG(cpayroll_trx, 1) OVER (PARTITION BY numero_de_cliente ORDER BY foto_mes) AS lag_1_cpayroll_trx, LAG(cpayroll_trx, 3) OVER (PARTITION BY numero_de_cliente ORDER BY foto_mes) AS lag_3_cpayroll_trx \n",
    ", LAG(mpayroll, 1) OVER (PARTITION BY numero_de_cliente ORDER BY foto_mes) AS lag_1_mpayroll, LAG(mpayroll, 3) OVER (PARTITION BY numero_de_cliente ORDER BY foto_mes) AS lag_3_mpayroll \n",
    ", LAG(ccomisiones_mantenimiento, 1) OVER (PARTITION BY numero_de_cliente ORDER BY foto_mes) AS lag_1_ccomisiones_mantenimiento, LAG(ccomisiones_mantenimiento, 3) OVER (PARTITION BY numero_de_cliente ORDER BY foto_mes) AS lag_3_ccomisiones_mantenimiento \n",
    ", LAG(mcomisiones_mantenimiento, 1) OVER (PARTITION BY numero_de_cliente ORDER BY foto_mes) AS lag_1_mcomisiones_mantenimiento, LAG(mcomisiones_mantenimiento, 3) OVER (PARTITION BY numero_de_cliente ORDER BY foto_mes) AS lag_3_mcomisiones_mantenimiento \n",
    ", LAG(ctransferencias_recibidas, 1) OVER (PARTITION BY numero_de_cliente ORDER BY foto_mes) AS lag_1_ctransferencias_recibidas, LAG(ctransferencias_recibidas, 3) OVER (PARTITION BY numero_de_cliente ORDER BY foto_mes) AS lag_3_ctransferencias_recibidas \n",
    ", LAG(mtransferencias_recibidas, 1) OVER (PARTITION BY numero_de_cliente ORDER BY foto_mes) AS lag_1_mtransferencias_recibidas, LAG(mtransferencias_recibidas, 3) OVER (PARTITION BY numero_de_cliente ORDER BY foto_mes) AS lag_3_mtransferencias_recibidas \n",
    ", LAG(thomebanking, 1) OVER (PARTITION BY numero_de_cliente ORDER BY foto_mes) AS lag_1_thomebanking, LAG(thomebanking, 3) OVER (PARTITION BY numero_de_cliente ORDER BY foto_mes) AS lag_3_thomebanking \n",
    ", LAG(chomebanking_transacciones, 1) OVER (PARTITION BY numero_de_cliente ORDER BY foto_mes) AS lag_1_chomebanking_transacciones, LAG(chomebanking_transacciones, 3) OVER (PARTITION BY numero_de_cliente ORDER BY foto_mes) AS lag_3_chomebanking_transacciones \n",
    ", LAG(ccajas_transacciones, 1) OVER (PARTITION BY numero_de_cliente ORDER BY foto_mes) AS lag_1_ccajas_transacciones, LAG(ccajas_transacciones, 3) OVER (PARTITION BY numero_de_cliente ORDER BY foto_mes) AS lag_3_ccajas_transacciones \n",
    ", LAG(ccajas_consultas, 1) OVER (PARTITION BY numero_de_cliente ORDER BY foto_mes) AS lag_1_ccajas_consultas, LAG(ccajas_consultas, 3) OVER (PARTITION BY numero_de_cliente ORDER BY foto_mes) AS lag_3_ccajas_consultas \n",
    ", LAG(ccajas_depositos, 1) OVER (PARTITION BY numero_de_cliente ORDER BY foto_mes) AS lag_1_ccajas_depositos, LAG(ccajas_depositos, 3) OVER (PARTITION BY numero_de_cliente ORDER BY foto_mes) AS lag_3_ccajas_depositos \n",
    ", LAG(ccajas_extracciones, 1) OVER (PARTITION BY numero_de_cliente ORDER BY foto_mes) AS lag_1_ccajas_extracciones, LAG(ccajas_extracciones, 3) OVER (PARTITION BY numero_de_cliente ORDER BY foto_mes) AS lag_3_ccajas_extracciones \n",
    ", LAG(ccajas_otras, 1) OVER (PARTITION BY numero_de_cliente ORDER BY foto_mes) AS lag_1_ccajas_otras, LAG(ccajas_otras, 3) OVER (PARTITION BY numero_de_cliente ORDER BY foto_mes) AS lag_3_ccajas_otras \n",
    ", LAG(catm_trx, 1) OVER (PARTITION BY numero_de_cliente ORDER BY foto_mes) AS lag_1_catm_trx, LAG(catm_trx, 3) OVER (PARTITION BY numero_de_cliente ORDER BY foto_mes) AS lag_3_catm_trx \n",
    ", LAG(matm, 1) OVER (PARTITION BY numero_de_cliente ORDER BY foto_mes) AS lag_1_matm, LAG(matm, 3) OVER (PARTITION BY numero_de_cliente ORDER BY foto_mes) AS lag_3_matm \n",
    ", LAG(ctrx_quarter, 1) OVER (PARTITION BY numero_de_cliente ORDER BY foto_mes) AS lag_1_ctrx_quarter, LAG(ctrx_quarter, 3) OVER (PARTITION BY numero_de_cliente ORDER BY foto_mes) AS lag_3_ctrx_quarter \n",
    "from competencia_02_max_min \n",
    "\n"
   ]
  },
  {
   "cell_type": "code",
   "execution_count": 22,
   "metadata": {},
   "outputs": [
    {
     "data": {
      "application/vnd.jupyter.widget-view+json": {
       "model_id": "60c1242dea5b44b88e0c443d3ba3d515",
       "version_major": 2,
       "version_minor": 0
      },
      "text/plain": [
       "FloatProgress(value=0.0, layout=Layout(width='auto'), style=ProgressStyle(bar_color='black'))"
      ]
     },
     "metadata": {},
     "output_type": "display_data"
    },
    {
     "data": {
      "text/html": [
       "<div>\n",
       "<style scoped>\n",
       "    .dataframe tbody tr th:only-of-type {\n",
       "        vertical-align: middle;\n",
       "    }\n",
       "\n",
       "    .dataframe tbody tr th {\n",
       "        vertical-align: top;\n",
       "    }\n",
       "\n",
       "    .dataframe thead th {\n",
       "        text-align: right;\n",
       "    }\n",
       "</style>\n",
       "<table border=\"1\" class=\"dataframe\">\n",
       "  <thead>\n",
       "    <tr style=\"text-align: right;\">\n",
       "      <th></th>\n",
       "      <th>Success</th>\n",
       "    </tr>\n",
       "  </thead>\n",
       "  <tbody>\n",
       "  </tbody>\n",
       "</table>\n",
       "</div>"
      ],
      "text/plain": [
       "Empty DataFrame\n",
       "Columns: [Success]\n",
       "Index: []"
      ]
     },
     "execution_count": 22,
     "metadata": {},
     "output_type": "execute_result"
    }
   ],
   "source": [
    "%%sql \n",
    "\n",
    "COPY competencia_02_con_lag TO 'C:\\Users\\Kalou\\OneDrive\\Escritorio\\DMEyF\\datasets\\final_data.csv' (HEADER, DELIMITER ',');"
   ]
  },
  {
   "cell_type": "code",
   "execution_count": 20,
   "metadata": {},
   "outputs": [
    {
     "name": "stdout",
     "output_type": "stream",
     "text": [
      "\n",
      ", LAG(limite_consumo, 1) OVER (PARTITION BY numero_de_cliente ORDER BY foto_mes) AS lag_1_limite_consumo, LAG(limite_consumo, 3) OVER (PARTITION BY numero_de_cliente ORDER BY foto_mes) AS lag_3_limite_consumo \n",
      ", LAG(limite_pagos, 1) OVER (PARTITION BY numero_de_cliente ORDER BY foto_mes) AS lag_1_limite_pagos, LAG(limite_pagos, 3) OVER (PARTITION BY numero_de_cliente ORDER BY foto_mes) AS lag_3_limite_pagos \n",
      ", LAG(monto_transf_saldo, 1) OVER (PARTITION BY numero_de_cliente ORDER BY foto_mes) AS lag_1_monto_transf_saldo, LAG(monto_transf_saldo, 3) OVER (PARTITION BY numero_de_cliente ORDER BY foto_mes) AS lag_3_monto_transf_saldo \n",
      ", LAG(mrentabilidad, 1) OVER (PARTITION BY numero_de_cliente ORDER BY foto_mes) AS lag_1_mrentabilidad, LAG(mrentabilidad, 3) OVER (PARTITION BY numero_de_cliente ORDER BY foto_mes) AS lag_3_mrentabilidad \n",
      ", LAG(mrentabilidad_annual, 1) OVER (PARTITION BY numero_de_cliente ORDER BY foto_mes) AS lag_1_mrentabilidad_annual, LAG(mrentabilidad_annual, 3) OVER (PARTITION BY numero_de_cliente ORDER BY foto_mes) AS lag_3_mrentabilidad_annual \n",
      ", LAG(cheq_rechazados_emitidos, 1) OVER (PARTITION BY numero_de_cliente ORDER BY foto_mes) AS lag_1_cheq_rechazados_emitidos, LAG(cheq_rechazados_emitidos, 3) OVER (PARTITION BY numero_de_cliente ORDER BY foto_mes) AS lag_3_cheq_rechazados_emitidos \n",
      ", LAG(productos_sobre_antiguedad, 1) OVER (PARTITION BY numero_de_cliente ORDER BY foto_mes) AS lag_1_productos_sobre_antiguedad, LAG(productos_sobre_antiguedad, 3) OVER (PARTITION BY numero_de_cliente ORDER BY foto_mes) AS lag_3_productos_sobre_antiguedad \n",
      ", LAG(activos_sobre_pasivo, 1) OVER (PARTITION BY numero_de_cliente ORDER BY foto_mes) AS lag_1_activos_sobre_pasivo, LAG(activos_sobre_pasivo, 3) OVER (PARTITION BY numero_de_cliente ORDER BY foto_mes) AS lag_3_activos_sobre_pasivo \n",
      ", LAG(transaccionesXtarjeta, 1) OVER (PARTITION BY numero_de_cliente ORDER BY foto_mes) AS lag_1_transaccionesXtarjeta, LAG(transaccionesXtarjeta, 3) OVER (PARTITION BY numero_de_cliente ORDER BY foto_mes) AS lag_3_transaccionesXtarjeta \n",
      ", LAG(transaccionesXDebito, 1) OVER (PARTITION BY numero_de_cliente ORDER BY foto_mes) AS lag_1_transaccionesXDebito, LAG(transaccionesXDebito, 3) OVER (PARTITION BY numero_de_cliente ORDER BY foto_mes) AS lag_3_transaccionesXDebito \n",
      ", LAG(comisiones_rentabilidad, 1) OVER (PARTITION BY numero_de_cliente ORDER BY foto_mes) AS lag_1_comisiones_rentabilidad, LAG(comisiones_rentabilidad, 3) OVER (PARTITION BY numero_de_cliente ORDER BY foto_mes) AS lag_3_comisiones_rentabilidad \n",
      ", LAG(rentabiilidad_antiguedad, 1) OVER (PARTITION BY numero_de_cliente ORDER BY foto_mes) AS lag_1_rentabiilidad_antiguedad, LAG(rentabiilidad_antiguedad, 3) OVER (PARTITION BY numero_de_cliente ORDER BY foto_mes) AS lag_3_rentabiilidad_antiguedad \n",
      ", LAG(edad_antiguedad, 1) OVER (PARTITION BY numero_de_cliente ORDER BY foto_mes) AS lag_1_edad_antiguedad, LAG(edad_antiguedad, 3) OVER (PARTITION BY numero_de_cliente ORDER BY foto_mes) AS lag_3_edad_antiguedad \n",
      ", LAG(visa_master_mpagominimo, 1) OVER (PARTITION BY numero_de_cliente ORDER BY foto_mes) AS lag_1_visa_master_mpagominimo, LAG(visa_master_mpagominimo, 3) OVER (PARTITION BY numero_de_cliente ORDER BY foto_mes) AS lag_3_visa_master_mpagominimo \n",
      ", LAG(visa_master_cadelantosefectivo, 1) OVER (PARTITION BY numero_de_cliente ORDER BY foto_mes) AS lag_1_visa_master_cadelantosefectivo, LAG(visa_master_cadelantosefectivo, 3) OVER (PARTITION BY numero_de_cliente ORDER BY foto_mes) AS lag_3_visa_master_cadelantosefectivo \n",
      ", LAG(visa_master_cconsumos, 1) OVER (PARTITION BY numero_de_cliente ORDER BY foto_mes) AS lag_1_visa_master_cconsumos, LAG(visa_master_cconsumos, 3) OVER (PARTITION BY numero_de_cliente ORDER BY foto_mes) AS lag_3_visa_master_cconsumos \n",
      ", LAG(visa_master_mconsumototal, 1) OVER (PARTITION BY numero_de_cliente ORDER BY foto_mes) AS lag_1_visa_master_mconsumototal, LAG(visa_master_mconsumototal, 3) OVER (PARTITION BY numero_de_cliente ORDER BY foto_mes) AS lag_3_visa_master_mconsumototal \n",
      ", LAG(visa_master_mlimitecompra, 1) OVER (PARTITION BY numero_de_cliente ORDER BY foto_mes) AS lag_1_visa_master_mlimitecompra, LAG(visa_master_mlimitecompra, 3) OVER (PARTITION BY numero_de_cliente ORDER BY foto_mes) AS lag_3_visa_master_mlimitecompra \n",
      ", LAG(visa_master_mconsumosdolares, 1) OVER (PARTITION BY numero_de_cliente ORDER BY foto_mes) AS lag_1_visa_master_mconsumosdolares, LAG(visa_master_mconsumosdolares, 3) OVER (PARTITION BY numero_de_cliente ORDER BY foto_mes) AS lag_3_visa_master_mconsumosdolares \n",
      ", LAG(visa_master_mconsumospesos, 1) OVER (PARTITION BY numero_de_cliente ORDER BY foto_mes) AS lag_1_visa_master_mconsumospesos, LAG(visa_master_mconsumospesos, 3) OVER (PARTITION BY numero_de_cliente ORDER BY foto_mes) AS lag_3_visa_master_mconsumospesos \n",
      ", LAG(visa_master_msaldototal, 1) OVER (PARTITION BY numero_de_cliente ORDER BY foto_mes) AS lag_1_visa_master_msaldototal, LAG(visa_master_msaldototal, 3) OVER (PARTITION BY numero_de_cliente ORDER BY foto_mes) AS lag_3_visa_master_msaldototal \n",
      ", LAG(visa_master_Finiciomora, 1) OVER (PARTITION BY numero_de_cliente ORDER BY foto_mes) AS lag_1_visa_master_Finiciomora, LAG(visa_master_Finiciomora, 3) OVER (PARTITION BY numero_de_cliente ORDER BY foto_mes) AS lag_3_visa_master_Finiciomora \n",
      ", LAG(visa_master_Fvencimiento, 1) OVER (PARTITION BY numero_de_cliente ORDER BY foto_mes) AS lag_1_visa_master_Fvencimiento, LAG(visa_master_Fvencimiento, 3) OVER (PARTITION BY numero_de_cliente ORDER BY foto_mes) AS lag_3_visa_master_Fvencimiento \n",
      ", LAG(visa_master_mfinanciacion_limite, 1) OVER (PARTITION BY numero_de_cliente ORDER BY foto_mes) AS lag_1_visa_master_mfinanciacion_limite, LAG(visa_master_mfinanciacion_limite, 3) OVER (PARTITION BY numero_de_cliente ORDER BY foto_mes) AS lag_3_visa_master_mfinanciacion_limite \n",
      ", LAG(visa_master_status, 1) OVER (PARTITION BY numero_de_cliente ORDER BY foto_mes) AS lag_1_visa_master_status, LAG(visa_master_status, 3) OVER (PARTITION BY numero_de_cliente ORDER BY foto_mes) AS lag_3_visa_master_status \n",
      ", LAG(cplazo_fijo, 1) OVER (PARTITION BY numero_de_cliente ORDER BY foto_mes) AS lag_1_cplazo_fijo, LAG(cplazo_fijo, 3) OVER (PARTITION BY numero_de_cliente ORDER BY foto_mes) AS lag_3_cplazo_fijo \n",
      ", LAG(mplazo_fijo_dolares, 1) OVER (PARTITION BY numero_de_cliente ORDER BY foto_mes) AS lag_1_mplazo_fijo_dolares, LAG(mplazo_fijo_dolares, 3) OVER (PARTITION BY numero_de_cliente ORDER BY foto_mes) AS lag_3_mplazo_fijo_dolares \n",
      ", LAG(mplazo_fijo_pesos, 1) OVER (PARTITION BY numero_de_cliente ORDER BY foto_mes) AS lag_1_mplazo_fijo_pesos, LAG(mplazo_fijo_pesos, 3) OVER (PARTITION BY numero_de_cliente ORDER BY foto_mes) AS lag_3_mplazo_fijo_pesos \n",
      ", LAG(cinversion1, 1) OVER (PARTITION BY numero_de_cliente ORDER BY foto_mes) AS lag_1_cinversion1, LAG(cinversion1, 3) OVER (PARTITION BY numero_de_cliente ORDER BY foto_mes) AS lag_3_cinversion1 \n",
      ", LAG(minversion1_pesos, 1) OVER (PARTITION BY numero_de_cliente ORDER BY foto_mes) AS lag_1_minversion1_pesos, LAG(minversion1_pesos, 3) OVER (PARTITION BY numero_de_cliente ORDER BY foto_mes) AS lag_3_minversion1_pesos \n",
      ", LAG(minversion1_dolares, 1) OVER (PARTITION BY numero_de_cliente ORDER BY foto_mes) AS lag_1_minversion1_dolares, LAG(minversion1_dolares, 3) OVER (PARTITION BY numero_de_cliente ORDER BY foto_mes) AS lag_3_minversion1_dolares \n",
      ", LAG(ccaja_seguridad, 1) OVER (PARTITION BY numero_de_cliente ORDER BY foto_mes) AS lag_1_ccaja_seguridad, LAG(ccaja_seguridad, 3) OVER (PARTITION BY numero_de_cliente ORDER BY foto_mes) AS lag_3_ccaja_seguridad \n",
      ", LAG(cpayroll_trx, 1) OVER (PARTITION BY numero_de_cliente ORDER BY foto_mes) AS lag_1_cpayroll_trx, LAG(cpayroll_trx, 3) OVER (PARTITION BY numero_de_cliente ORDER BY foto_mes) AS lag_3_cpayroll_trx \n",
      ", LAG(mpayroll, 1) OVER (PARTITION BY numero_de_cliente ORDER BY foto_mes) AS lag_1_mpayroll, LAG(mpayroll, 3) OVER (PARTITION BY numero_de_cliente ORDER BY foto_mes) AS lag_3_mpayroll \n",
      ", LAG(ccomisiones_mantenimiento, 1) OVER (PARTITION BY numero_de_cliente ORDER BY foto_mes) AS lag_1_ccomisiones_mantenimiento, LAG(ccomisiones_mantenimiento, 3) OVER (PARTITION BY numero_de_cliente ORDER BY foto_mes) AS lag_3_ccomisiones_mantenimiento \n",
      ", LAG(mcomisiones_mantenimiento, 1) OVER (PARTITION BY numero_de_cliente ORDER BY foto_mes) AS lag_1_mcomisiones_mantenimiento, LAG(mcomisiones_mantenimiento, 3) OVER (PARTITION BY numero_de_cliente ORDER BY foto_mes) AS lag_3_mcomisiones_mantenimiento \n",
      ", LAG(ctransferencias_recibidas, 1) OVER (PARTITION BY numero_de_cliente ORDER BY foto_mes) AS lag_1_ctransferencias_recibidas, LAG(ctransferencias_recibidas, 3) OVER (PARTITION BY numero_de_cliente ORDER BY foto_mes) AS lag_3_ctransferencias_recibidas \n",
      ", LAG(mtransferencias_recibidas, 1) OVER (PARTITION BY numero_de_cliente ORDER BY foto_mes) AS lag_1_mtransferencias_recibidas, LAG(mtransferencias_recibidas, 3) OVER (PARTITION BY numero_de_cliente ORDER BY foto_mes) AS lag_3_mtransferencias_recibidas \n",
      ", LAG(thomebanking, 1) OVER (PARTITION BY numero_de_cliente ORDER BY foto_mes) AS lag_1_thomebanking, LAG(thomebanking, 3) OVER (PARTITION BY numero_de_cliente ORDER BY foto_mes) AS lag_3_thomebanking \n",
      ", LAG(chomebanking_transacciones, 1) OVER (PARTITION BY numero_de_cliente ORDER BY foto_mes) AS lag_1_chomebanking_transacciones, LAG(chomebanking_transacciones, 3) OVER (PARTITION BY numero_de_cliente ORDER BY foto_mes) AS lag_3_chomebanking_transacciones \n",
      ", LAG(ccajas_transacciones, 1) OVER (PARTITION BY numero_de_cliente ORDER BY foto_mes) AS lag_1_ccajas_transacciones, LAG(ccajas_transacciones, 3) OVER (PARTITION BY numero_de_cliente ORDER BY foto_mes) AS lag_3_ccajas_transacciones \n",
      ", LAG(ccajas_consultas, 1) OVER (PARTITION BY numero_de_cliente ORDER BY foto_mes) AS lag_1_ccajas_consultas, LAG(ccajas_consultas, 3) OVER (PARTITION BY numero_de_cliente ORDER BY foto_mes) AS lag_3_ccajas_consultas \n",
      ", LAG(ccajas_depositos, 1) OVER (PARTITION BY numero_de_cliente ORDER BY foto_mes) AS lag_1_ccajas_depositos, LAG(ccajas_depositos, 3) OVER (PARTITION BY numero_de_cliente ORDER BY foto_mes) AS lag_3_ccajas_depositos \n",
      ", LAG(ccajas_extracciones, 1) OVER (PARTITION BY numero_de_cliente ORDER BY foto_mes) AS lag_1_ccajas_extracciones, LAG(ccajas_extracciones, 3) OVER (PARTITION BY numero_de_cliente ORDER BY foto_mes) AS lag_3_ccajas_extracciones \n",
      ", LAG(ccajas_otras, 1) OVER (PARTITION BY numero_de_cliente ORDER BY foto_mes) AS lag_1_ccajas_otras, LAG(ccajas_otras, 3) OVER (PARTITION BY numero_de_cliente ORDER BY foto_mes) AS lag_3_ccajas_otras \n",
      ", LAG(catm_trx, 1) OVER (PARTITION BY numero_de_cliente ORDER BY foto_mes) AS lag_1_catm_trx, LAG(catm_trx, 3) OVER (PARTITION BY numero_de_cliente ORDER BY foto_mes) AS lag_3_catm_trx \n",
      ", LAG(matm, 1) OVER (PARTITION BY numero_de_cliente ORDER BY foto_mes) AS lag_1_matm, LAG(matm, 3) OVER (PARTITION BY numero_de_cliente ORDER BY foto_mes) AS lag_3_matm \n",
      ", LAG(ctrx_quarter, 1) OVER (PARTITION BY numero_de_cliente ORDER BY foto_mes) AS lag_1_ctrx_quarter, LAG(ctrx_quarter, 3) OVER (PARTITION BY numero_de_cliente ORDER BY foto_mes) AS lag_3_ctrx_quarter \n"
     ]
    }
   ],
   "source": [
    "campos = ['limite_consumo', 'limite_pagos', 'monto_transf_saldo',\n",
    "  'mrentabilidad', 'mrentabilidad_annual', 'cheq_rechazados_emitidos', 'productos_sobre_antiguedad',\n",
    "  'activos_sobre_pasivo', 'transaccionesXtarjeta', 'transaccionesXDebito', 'comisiones_rentabilidad',\n",
    "  'rentabiilidad_antiguedad', 'edad_antiguedad', 'visa_master_mpagominimo', 'visa_master_cadelantosefectivo',\n",
    "  'visa_master_cconsumos', 'visa_master_mconsumototal', 'visa_master_mlimitecompra', 'visa_master_mconsumosdolares',\n",
    "  'visa_master_mconsumospesos', 'visa_master_msaldototal',\n",
    "  'visa_master_Finiciomora', 'visa_master_Fvencimiento', 'visa_master_mfinanciacion_limite','visa_master_status',\n",
    "  'cplazo_fijo', 'mplazo_fijo_dolares', 'mplazo_fijo_pesos', 'cinversion1', 'minversion1_pesos', 'minversion1_dolares',\n",
    "  'ccaja_seguridad', 'cpayroll_trx', 'mpayroll', 'ccomisiones_mantenimiento', 'mcomisiones_mantenimiento',\n",
    "  'ctransferencias_recibidas', 'mtransferencias_recibidas', 'thomebanking', 'chomebanking_transacciones',\n",
    "  'ccajas_transacciones', 'ccajas_consultas', 'ccajas_depositos', 'ccajas_extracciones', 'ccajas_otras', 'catm_trx',\n",
    "  'matm', 'ctrx_quarter']\n",
    "nuevos_features = \"\"\n",
    "for campo in campos:\n",
    "  nuevos_features += f\"\\n, LAG({campo}, 1) OVER (PARTITION BY numero_de_cliente ORDER BY foto_mes) AS lag_1_{campo}, LAG({campo}, 3) OVER (PARTITION BY numero_de_cliente ORDER BY foto_mes) AS lag_3_{campo} \"\n",
    "\n",
    "print(nuevos_features)\n",
    "\n"
   ]
  }
 ],
 "metadata": {
  "kernelspec": {
   "display_name": "Python 3",
   "language": "python",
   "name": "python3"
  },
  "language_info": {
   "codemirror_mode": {
    "name": "ipython",
    "version": 3
   },
   "file_extension": ".py",
   "mimetype": "text/x-python",
   "name": "python",
   "nbconvert_exporter": "python",
   "pygments_lexer": "ipython3",
   "version": "3.11.4"
  },
  "orig_nbformat": 4
 },
 "nbformat": 4,
 "nbformat_minor": 2
}
